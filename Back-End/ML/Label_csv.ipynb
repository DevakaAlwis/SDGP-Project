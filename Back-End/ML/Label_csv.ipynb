{
 "cells": [
  {
   "attachments": {},
   "cell_type": "markdown",
   "id": "d146d061",
   "metadata": {},
   "source": [
    "# Importing Libraries"
   ]
  },
  {
   "cell_type": "code",
   "execution_count": 5,
   "id": "cc6ba6cf",
   "metadata": {},
   "outputs": [],
   "source": [
    "import pandas as pd\n",
    "import joblib\n",
    "from textblob import TextBlob"
   ]
  },
  {
   "cell_type": "code",
   "execution_count": 2,
   "id": "3bb88c61",
   "metadata": {},
   "outputs": [
    {
     "name": "stdout",
     "output_type": "stream",
     "text": [
      "1.2.0\n"
     ]
    }
   ],
   "source": [
    "print(joblib.__version__)"
   ]
  },
  {
   "attachments": {},
   "cell_type": "markdown",
   "id": "4ca104d1",
   "metadata": {},
   "source": [
    "# Loading CSV file "
   ]
  },
  {
   "cell_type": "code",
   "execution_count": 6,
   "id": "d735805f",
   "metadata": {},
   "outputs": [],
   "source": [
    "#loading the csv file and reading it\n",
    "data = pd.read_csv('product_reviews_for_review_analysis_1.csv')"
   ]
  },
  {
   "attachments": {},
   "cell_type": "markdown",
   "id": "90eda396",
   "metadata": {},
   "source": [
    "# Loading the Sentiment model and vectorizer"
   ]
  },
  {
   "cell_type": "code",
   "execution_count": 7,
   "id": "1ee9c331",
   "metadata": {},
   "outputs": [],
   "source": [
    "#loading the svm model and vectorizer\n",
    "loaded_svm_model = joblib.load('svm_modelFin.sav')\n",
    "loaded_vectorizer = joblib.load('vectorizerFin.pk1')"
   ]
  },
  {
   "attachments": {},
   "cell_type": "markdown",
   "id": "b58a6138",
   "metadata": {},
   "source": [
    "# Updating the csv files with sentiment coulmn and Trustworthy score columns"
   ]
  },
  {
   "cell_type": "code",
   "execution_count": null,
   "id": "18154aeb",
   "metadata": {
    "scrolled": false
   },
   "outputs": [],
   "source": [
    "# adding the predicted labels and the percentage score as sentiment score to original data frame\n",
    "for i in range(len(data)):\n",
    "  review_text = data.loc[i, 'reviewText']\n",
    "  new_text = loaded_vectorizer.transform([review_text]).toarray()\n",
    "  prediction = loaded_svm_model.predict(new_text)[0]    \n",
    "  polarity_score = TextBlob(review_text).sentiment.polarity #giving polarity score to each text using text blob\n",
    "  percentage_score = round((polarity_score + 1) * 50)  #rounding polarity score to 0 - 100\n",
    "  data.loc[i, 'Sentiment_label'] = prediction\n",
    "  data.loc[i, 'trustworthy_score'] = percentage_score\n",
    "\n",
    "#saving the updated dataframe to csv\n",
    "data.to_csv('product_reviews_for_review_analysis_1_final.csv', index=False)"
   ]
  },
  {
   "cell_type": "code",
   "execution_count": null,
   "id": "faf392da",
   "metadata": {},
   "outputs": [],
   "source": [
    "print('done')"
   ]
  }
 ],
 "metadata": {
  "kernelspec": {
   "display_name": "Python 3 (ipykernel)",
   "language": "python",
   "name": "python3"
  },
  "language_info": {
   "codemirror_mode": {
    "name": "ipython",
    "version": 3
   },
   "file_extension": ".py",
   "mimetype": "text/x-python",
   "name": "python",
   "nbconvert_exporter": "python",
   "pygments_lexer": "ipython3",
   "version": "3.11.1"
  }
 },
 "nbformat": 4,
 "nbformat_minor": 5
}
