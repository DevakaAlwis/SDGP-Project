{
 "cells": [
  {
   "cell_type": "code",
   "execution_count": 5,
   "id": "cc6ba6cf",
   "metadata": {},
   "outputs": [],
   "source": [
    "import pandas as pd\n",
    "import joblib\n",
    "from textblob import TextBlob"
   ]
  },
  {
   "cell_type": "code",
   "execution_count": 2,
   "id": "3bb88c61",
   "metadata": {},
   "outputs": [
    {
     "name": "stdout",
     "output_type": "stream",
     "text": [
      "1.2.0\n"
     ]
    }
   ],
   "source": [
    "print(joblib.__version__)"
   ]
  },
  {
   "cell_type": "code",
   "execution_count": 6,
   "id": "d735805f",
   "metadata": {},
   "outputs": [],
   "source": [
    "#loading the csv file and reading it\n",
    "data = pd.read_csv('product_reviews_for_review_analysis_1.csv')"
   ]
  },
  {
   "cell_type": "code",
   "execution_count": 7,
   "id": "1ee9c331",
   "metadata": {},
   "outputs": [],
   "source": [
    "#loading the svm model and vectorizer\n",
    "loaded_svm_model = joblib.load('svm_modelFin.sav')\n",
    "loaded_vectorizer = joblib.load('vectorizerFin.pk1')"
   ]
  },
  {
   "cell_type": "code",
   "execution_count": null,
   "id": "18154aeb",
   "metadata": {
    "scrolled": false
   },
   "outputs": [],
   "source": [
    "# #transforming the reviewText column data using the vectorizer\n",
    "# new_text = loaded_vectorizer.transform(data['reviewText']).toarray()\n",
    "\n",
    "# #loading vadar lexicon for score and rounding to 0 -100\n",
    "# analyzer = SentimentIntensityAnalyzer()\n",
    "\n",
    "# #adding the predicted labels and the percentage score as sentiment score to original data frame\n",
    "# for i in range(len(new_text)):\n",
    "#   prediction = loaded_svm_model.predict(new_text[i].reshape(1,-1))\n",
    "#   new_scores = TextBlob.polarity_scores(data['reviewText'][i])\n",
    "#   compound_score = new_scores['compound']\n",
    "#   percentage_score = round((compound_score + 1) * 50)\n",
    "#   data.loc[i, 'Sentiment_label'] = prediction[0]\n",
    "#   data.loc[i, 'trustworthy_score'] = percentage_score\n",
    "\n",
    "\n",
    "# adding the predicted labels and the percentage score as sentiment score to original data frame\n",
    "for i in range(len(data)):\n",
    "  review_text = data.loc[i, 'reviewText']\n",
    "  new_text = loaded_vectorizer.transform([review_text]).toarray()\n",
    "  prediction = loaded_svm_model.predict(new_text)[0]\n",
    "  polarity_score = TextBlob(review_text).sentiment.polarity\n",
    "  percentage_score = round((polarity_score + 1) * 50)\n",
    "  data.loc[i, 'Sentiment_label'] = prediction\n",
    "  data.loc[i, 'trustworthy_score'] = percentage_score\n",
    "\n",
    "#saving the updated dataframe to csv\n",
    "data.to_csv('product_reviews_for_review_analysis_1_final.csv', index=False)"
   ]
  },
  {
   "cell_type": "code",
   "execution_count": null,
   "id": "faf392da",
   "metadata": {},
   "outputs": [],
   "source": [
    "print('done')"
   ]
  },
  {
   "cell_type": "code",
   "execution_count": null,
   "id": "99b40618",
   "metadata": {},
   "outputs": [],
   "source": []
  }
 ],
 "metadata": {
  "kernelspec": {
   "display_name": "Python 3 (ipykernel)",
   "language": "python",
   "name": "python3"
  },
  "language_info": {
   "codemirror_mode": {
    "name": "ipython",
    "version": 3
   },
   "file_extension": ".py",
   "mimetype": "text/x-python",
   "name": "python",
   "nbconvert_exporter": "python",
   "pygments_lexer": "ipython3",
   "version": "3.11.1"
  }
 },
 "nbformat": 4,
 "nbformat_minor": 5
}
