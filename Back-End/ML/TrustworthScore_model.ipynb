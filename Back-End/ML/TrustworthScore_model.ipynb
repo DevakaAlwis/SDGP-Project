{
 "cells": [
  {
   "cell_type": "markdown",
   "id": "9cd0bb62",
   "metadata": {},
   "source": [
    "# Importing modules"
   ]
  },
  {
   "cell_type": "code",
   "execution_count": 6,
   "id": "340b0e53",
   "metadata": {
    "scrolled": true
   },
   "outputs": [],
   "source": [
    "import pandas as pd\n",
    "from sklearn.ensemble import RandomForestRegressor\n",
    "from sklearn.model_selection import train_test_split\n",
    "from sklearn.metrics import r2_score, mean_squared_error, mean_absolute_error\n",
    "from imblearn.over_sampling import ADASYN\n",
    "import joblib\n",
    "import numpy as np\n",
    "import seaborn as sns"
   ]
  },
  {
   "cell_type": "markdown",
   "id": "1575eaab",
   "metadata": {},
   "source": [
    "# Loading and Reading the dataset"
   ]
  },
  {
   "cell_type": "code",
   "execution_count": 2,
   "id": "97dd38d8",
   "metadata": {},
   "outputs": [],
   "source": [
    "# load data\n",
    "data = pd.read_csv(\"dataset_to_score_finished.csv\")"
   ]
  },
  {
   "cell_type": "markdown",
   "id": "d6df6d66",
   "metadata": {},
   "source": [
    "# Performing EDA on dataset"
   ]
  },
  {
   "cell_type": "code",
   "execution_count": 3,
   "id": "4b09af19",
   "metadata": {},
   "outputs": [
    {
     "data": {
      "text/html": [
       "<div>\n",
       "<style scoped>\n",
       "    .dataframe tbody tr th:only-of-type {\n",
       "        vertical-align: middle;\n",
       "    }\n",
       "\n",
       "    .dataframe tbody tr th {\n",
       "        vertical-align: top;\n",
       "    }\n",
       "\n",
       "    .dataframe thead th {\n",
       "        text-align: right;\n",
       "    }\n",
       "</style>\n",
       "<table border=\"1\" class=\"dataframe\">\n",
       "  <thead>\n",
       "    <tr style=\"text-align: right;\">\n",
       "      <th></th>\n",
       "      <th>rating</th>\n",
       "      <th>review_count</th>\n",
       "      <th>positive_reviews</th>\n",
       "      <th>neutral_reviews</th>\n",
       "      <th>negative_reviews</th>\n",
       "      <th>trustworthy_score</th>\n",
       "    </tr>\n",
       "  </thead>\n",
       "  <tbody>\n",
       "    <tr>\n",
       "      <th>count</th>\n",
       "      <td>23577.000000</td>\n",
       "      <td>23577.000000</td>\n",
       "      <td>23577.000000</td>\n",
       "      <td>23577.000000</td>\n",
       "      <td>23577.000000</td>\n",
       "      <td>23577.000000</td>\n",
       "    </tr>\n",
       "    <tr>\n",
       "      <th>mean</th>\n",
       "      <td>4.314085</td>\n",
       "      <td>60.978750</td>\n",
       "      <td>58.780676</td>\n",
       "      <td>0.034313</td>\n",
       "      <td>2.163761</td>\n",
       "      <td>65.579496</td>\n",
       "    </tr>\n",
       "    <tr>\n",
       "      <th>std</th>\n",
       "      <td>0.623297</td>\n",
       "      <td>216.672365</td>\n",
       "      <td>210.074374</td>\n",
       "      <td>0.250825</td>\n",
       "      <td>8.466727</td>\n",
       "      <td>5.864837</td>\n",
       "    </tr>\n",
       "    <tr>\n",
       "      <th>min</th>\n",
       "      <td>1.000000</td>\n",
       "      <td>1.000000</td>\n",
       "      <td>0.000000</td>\n",
       "      <td>0.000000</td>\n",
       "      <td>0.000000</td>\n",
       "      <td>12.000000</td>\n",
       "    </tr>\n",
       "    <tr>\n",
       "      <th>25%</th>\n",
       "      <td>4.038462</td>\n",
       "      <td>5.000000</td>\n",
       "      <td>4.000000</td>\n",
       "      <td>0.000000</td>\n",
       "      <td>0.000000</td>\n",
       "      <td>62.222222</td>\n",
       "    </tr>\n",
       "    <tr>\n",
       "      <th>50%</th>\n",
       "      <td>4.461783</td>\n",
       "      <td>13.000000</td>\n",
       "      <td>13.000000</td>\n",
       "      <td>0.000000</td>\n",
       "      <td>0.000000</td>\n",
       "      <td>65.242424</td>\n",
       "    </tr>\n",
       "    <tr>\n",
       "      <th>75%</th>\n",
       "      <td>4.718182</td>\n",
       "      <td>42.000000</td>\n",
       "      <td>40.000000</td>\n",
       "      <td>0.000000</td>\n",
       "      <td>1.000000</td>\n",
       "      <td>68.766071</td>\n",
       "    </tr>\n",
       "    <tr>\n",
       "      <th>max</th>\n",
       "      <td>5.000000</td>\n",
       "      <td>10037.000000</td>\n",
       "      <td>9785.000000</td>\n",
       "      <td>8.000000</td>\n",
       "      <td>257.000000</td>\n",
       "      <td>100.000000</td>\n",
       "    </tr>\n",
       "  </tbody>\n",
       "</table>\n",
       "</div>"
      ],
      "text/plain": [
       "             rating  review_count  positive_reviews  neutral_reviews  \\\n",
       "count  23577.000000  23577.000000      23577.000000     23577.000000   \n",
       "mean       4.314085     60.978750         58.780676         0.034313   \n",
       "std        0.623297    216.672365        210.074374         0.250825   \n",
       "min        1.000000      1.000000          0.000000         0.000000   \n",
       "25%        4.038462      5.000000          4.000000         0.000000   \n",
       "50%        4.461783     13.000000         13.000000         0.000000   \n",
       "75%        4.718182     42.000000         40.000000         0.000000   \n",
       "max        5.000000  10037.000000       9785.000000         8.000000   \n",
       "\n",
       "       negative_reviews  trustworthy_score  \n",
       "count      23577.000000       23577.000000  \n",
       "mean           2.163761          65.579496  \n",
       "std            8.466727           5.864837  \n",
       "min            0.000000          12.000000  \n",
       "25%            0.000000          62.222222  \n",
       "50%            0.000000          65.242424  \n",
       "75%            1.000000          68.766071  \n",
       "max          257.000000         100.000000  "
      ]
     },
     "execution_count": 3,
     "metadata": {},
     "output_type": "execute_result"
    }
   ],
   "source": [
    "data.describe()"
   ]
  },
  {
   "cell_type": "markdown",
   "id": "902ea37c",
   "metadata": {},
   "source": [
    "## Heat map"
   ]
  },
  {
   "cell_type": "code",
   "execution_count": 7,
   "id": "1c8768e8",
   "metadata": {},
   "outputs": [
    {
     "name": "stderr",
     "output_type": "stream",
     "text": [
      "C:\\Users\\BIMSARA\\AppData\\Local\\Temp\\ipykernel_29388\\2142008752.py:2: FutureWarning: The default value of numeric_only in DataFrame.corr is deprecated. In a future version, it will default to False. Select only valid columns or specify the value of numeric_only to silence this warning.\n",
      "  corelation  = data.corr()\n"
     ]
    },
    {
     "data": {
      "text/plain": [
       "<Axes: >"
      ]
     },
     "execution_count": 7,
     "metadata": {},
     "output_type": "execute_result"
    },
    {
     "data": {
      "image/png": "[encoded data removed]",
      "text/plain": [
       "<Figure size 640x480 with 2 Axes>"
      ]
     },
     "metadata": {},
     "output_type": "display_data"
    }
   ],
   "source": [
    "#Relationship analysis\n",
    "corelation  = data.corr()\n",
    "sns.heatmap(corelation, xticklabels=corelation.columns, yticklabels=corelation.columns, annot = True)"
   ]
  },
  {
   "cell_type": "markdown",
   "id": "ca639882",
   "metadata": {},
   "source": [
    "## Pair plot"
   ]
  },
  {
   "cell_type": "code",
   "execution_count": null,
   "id": "fc1150bd",
   "metadata": {},
   "outputs": [],
   "source": [
    "sns.pairplot(data)"
   ]
  },
  {
   "cell_type": "markdown",
   "id": "154dfb5e",
   "metadata": {},
   "source": [
    "## Realtion plot"
   ]
  },
  {
   "cell_type": "code",
   "execution_count": null,
   "id": "8fa986ed",
   "metadata": {},
   "outputs": [],
   "source": [
    "sns.relplot(x= 'negative_reviews', y= 'rating', hue='trustworthy_score', data=data)"
   ]
  },
  {
   "cell_type": "markdown",
   "id": "b085a92f",
   "metadata": {},
   "source": [
    "# Splitting data into features and target variable"
   ]
  },
  {
   "cell_type": "code",
   "execution_count": 3,
   "id": "7cfa8ee8",
   "metadata": {},
   "outputs": [],
   "source": [
    "# selecting features and target variable\n",
    "X = data[[\"rating\", \"review_count\", \"positive_reviews\", \"neutral_reviews\", \"negative_reviews\"]]\n",
    "y = data[\"trustworthy_score\"]"
   ]
  },
  {
   "cell_type": "markdown",
   "id": "8572c1e0",
   "metadata": {},
   "source": [
    "# Checking for outliers and removing them"
   ]
  },
  {
   "cell_type": "code",
   "execution_count": 4,
   "id": "8ca87640",
   "metadata": {},
   "outputs": [],
   "source": [
    "#selecting columns to check for z-score\n",
    "cols_to_check = [\"rating\", \"positive_reviews\", \"neutral_reviews\", \"negative_reviews\", \"review_count\"]"
   ]
  },
  {
   "cell_type": "code",
   "execution_count": 5,
   "id": "c5ae8f79",
   "metadata": {},
   "outputs": [],
   "source": [
    "# Computing the z-scores for the selected columns in the dataset\n",
    "z_scores = np.abs((data[cols_to_check] - data[cols_to_check].mean()) / data[cols_to_check].std())"
   ]
  },
  {
   "cell_type": "code",
   "execution_count": 6,
   "id": "e5354bf2",
   "metadata": {},
   "outputs": [],
   "source": [
    "# Identifying outliers as any data point with a z-score greater than 3\n",
    "outliers = data[(z_scores > 3).any(axis=1)]"
   ]
  },
  {
   "cell_type": "code",
   "execution_count": 7,
   "id": "7734daa0",
   "metadata": {},
   "outputs": [
    {
     "name": "stdout",
     "output_type": "stream",
     "text": [
      "             asin    rating  review_count  positive_reviews  neutral_reviews  \\\n",
      "1      073530498X  4.547619           126             124.0              1.0   \n",
      "3       101635370  3.533333            30              24.0              1.0   \n",
      "21     140053271X  4.266932           502             474.0              0.0   \n",
      "24     1400699169  4.445455           110             109.0              1.0   \n",
      "32     1418499765  1.800000            10               7.0              0.0   \n",
      "...           ...       ...           ...               ...              ...   \n",
      "23487  B0015EWMX8  4.468571          1400            1367.0              0.0   \n",
      "23489  B0015EY5RE  3.825112           223             204.0              1.0   \n",
      "23526  B0015HS1HQ  4.284916           358             356.0              1.0   \n",
      "23542  B0015K903M  4.433022           321             298.0              1.0   \n",
      "23570  B0015M22C6  4.531043          1659            1591.0              0.0   \n",
      "\n",
      "       negative_reviews  trustworthy_score  \n",
      "1                   1.0          70.666667  \n",
      "3                   5.0          61.533333  \n",
      "21                 28.0          66.553785  \n",
      "24                  0.0          72.036364  \n",
      "32                  3.0          56.700000  \n",
      "...                 ...                ...  \n",
      "23487              33.0          65.525714  \n",
      "23489              18.0          62.493274  \n",
      "23526               1.0          64.653631  \n",
      "23542              22.0          68.968847  \n",
      "23570              68.0          64.889693  \n",
      "\n",
      "[1279 rows x 7 columns]\n"
     ]
    }
   ],
   "source": [
    "print(outliers)"
   ]
  },
  {
   "cell_type": "code",
   "execution_count": 8,
   "id": "8a16801c",
   "metadata": {},
   "outputs": [],
   "source": [
    "# Removing outliers from the dataset\n",
    "data = data[(z_scores <= 3).all(axis=1)]"
   ]
  },
  {
   "cell_type": "markdown",
   "id": "a23f239c",
   "metadata": {},
   "source": [
    "# Training the dataset"
   ]
  },
  {
   "cell_type": "code",
   "execution_count": 9,
   "id": "a3350b0c",
   "metadata": {},
   "outputs": [],
   "source": [
    "# Split into train and test sets\n",
    "X_train, X_test, y_train, y_test = train_test_split(X, y, test_size=0.2, random_state=42)"
   ]
  },
  {
   "cell_type": "code",
   "execution_count": 10,
   "id": "d4220618",
   "metadata": {},
   "outputs": [],
   "source": [
    "# # Resample to balance classes\n",
    "# adasyn = ADASYN()\n",
    "# X_train_balanced, y_train_balanced = adasyn.fit_resample(X_train, y_train)"
   ]
  },
  {
   "cell_type": "markdown",
   "id": "9eccbf34",
   "metadata": {},
   "source": [
    "## Using Random Forest Algorithm"
   ]
  },
  {
   "cell_type": "code",
   "execution_count": 11,
   "id": "e91030d8",
   "metadata": {},
   "outputs": [
    {
     "data": {
      "text/html": [
       "<style>#sk-container-id-1 {color: black;background-color: white;}#sk-container-id-1 pre{padding: 0;}#sk-container-id-1 div.sk-toggleable {background-color: white;}#sk-container-id-1 label.sk-toggleable__label {cursor: pointer;display: block;width: 100%;margin-bottom: 0;padding: 0.3em;box-sizing: border-box;text-align: center;}#sk-container-id-1 label.sk-toggleable__label-arrow:before {content: \"▸\";float: left;margin-right: 0.25em;color: #696969;}#sk-container-id-1 label.sk-toggleable__label-arrow:hover:before {color: black;}#sk-container-id-1 div.sk-estimator:hover label.sk-toggleable__label-arrow:before {color: black;}#sk-container-id-1 div.sk-toggleable__content {max-height: 0;max-width: 0;overflow: hidden;text-align: left;background-color: #f0f8ff;}#sk-container-id-1 div.sk-toggleable__content pre {margin: 0.2em;color: black;border-radius: 0.25em;background-color: #f0f8ff;}#sk-container-id-1 input.sk-toggleable__control:checked~div.sk-toggleable__content {max-height: 200px;max-width: 100%;overflow: auto;}#sk-container-id-1 input.sk-toggleable__control:checked~label.sk-toggleable__label-arrow:before {content: \"▾\";}#sk-container-id-1 div.sk-estimator input.sk-toggleable__control:checked~label.sk-toggleable__label {background-color: #d4ebff;}#sk-container-id-1 div.sk-label input.sk-toggleable__control:checked~label.sk-toggleable__label {background-color: #d4ebff;}#sk-container-id-1 input.sk-hidden--visually {border: 0;clip: rect(1px 1px 1px 1px);clip: rect(1px, 1px, 1px, 1px);height: 1px;margin: -1px;overflow: hidden;padding: 0;position: absolute;width: 1px;}#sk-container-id-1 div.sk-estimator {font-family: monospace;background-color: #f0f8ff;border: 1px dotted black;border-radius: 0.25em;box-sizing: border-box;margin-bottom: 0.5em;}#sk-container-id-1 div.sk-estimator:hover {background-color: #d4ebff;}#sk-container-id-1 div.sk-parallel-item::after {content: \"\";width: 100%;border-bottom: 1px solid gray;flex-grow: 1;}#sk-container-id-1 div.sk-label:hover label.sk-toggleable__label {background-color: #d4ebff;}#sk-container-id-1 div.sk-serial::before {content: \"\";position: absolute;border-left: 1px solid gray;box-sizing: border-box;top: 0;bottom: 0;left: 50%;z-index: 0;}#sk-container-id-1 div.sk-serial {display: flex;flex-direction: column;align-items: center;background-color: white;padding-right: 0.2em;padding-left: 0.2em;position: relative;}#sk-container-id-1 div.sk-item {position: relative;z-index: 1;}#sk-container-id-1 div.sk-parallel {display: flex;align-items: stretch;justify-content: center;background-color: white;position: relative;}#sk-container-id-1 div.sk-item::before, #sk-container-id-1 div.sk-parallel-item::before {content: \"\";position: absolute;border-left: 1px solid gray;box-sizing: border-box;top: 0;bottom: 0;left: 50%;z-index: -1;}#sk-container-id-1 div.sk-parallel-item {display: flex;flex-direction: column;z-index: 1;position: relative;background-color: white;}#sk-container-id-1 div.sk-parallel-item:first-child::after {align-self: flex-end;width: 50%;}#sk-container-id-1 div.sk-parallel-item:last-child::after {align-self: flex-start;width: 50%;}#sk-container-id-1 div.sk-parallel-item:only-child::after {width: 0;}#sk-container-id-1 div.sk-dashed-wrapped {border: 1px dashed gray;margin: 0 0.4em 0.5em 0.4em;box-sizing: border-box;padding-bottom: 0.4em;background-color: white;}#sk-container-id-1 div.sk-label label {font-family: monospace;font-weight: bold;display: inline-block;line-height: 1.2em;}#sk-container-id-1 div.sk-label-container {text-align: center;}#sk-container-id-1 div.sk-container {/* jupyter's `normalize.less` sets `[hidden] { display: none; }` but bootstrap.min.css set `[hidden] { display: none !important; }` so we also need the `!important` here to be able to override the default hidden behavior on the sphinx rendered scikit-learn.org. See: https://github.com/scikit-learn/scikit-learn/issues/21755 */display: inline-block !important;position: relative;}#sk-container-id-1 div.sk-text-repr-fallback {display: none;}</style><div id=\"sk-container-id-1\" class=\"sk-top-container\"><div class=\"sk-text-repr-fallback\"><pre>RandomForestRegressor(max_depth=10, random_state=42)</pre><b>In a Jupyter environment, please rerun this cell to show the HTML representation or trust the notebook. <br />On GitHub, the HTML representation is unable to render, please try loading this page with nbviewer.org.</b></div><div class=\"sk-container\" hidden><div class=\"sk-item\"><div class=\"sk-estimator sk-toggleable\"><input class=\"sk-toggleable__control sk-hidden--visually\" id=\"sk-estimator-id-1\" type=\"checkbox\" checked><label for=\"sk-estimator-id-1\" class=\"sk-toggleable__label sk-toggleable__label-arrow\">RandomForestRegressor</label><div class=\"sk-toggleable__content\"><pre>RandomForestRegressor(max_depth=10, random_state=42)</pre></div></div></div></div></div>"
      ],
      "text/plain": [
       "RandomForestRegressor(max_depth=10, random_state=42)"
      ]
     },
     "execution_count": 11,
     "metadata": {},
     "output_type": "execute_result"
    }
   ],
   "source": [
    "# Train Random Forest model\n",
    "rf_model = RandomForestRegressor(n_estimators=100, max_depth=10, random_state=42)\n",
    "rf_model.fit(X_train, y_train)"
   ]
  },
  {
   "cell_type": "markdown",
   "id": "ee8f8486",
   "metadata": {},
   "source": [
    "# Evaluating the model"
   ]
  },
  {
   "cell_type": "code",
   "execution_count": 12,
   "id": "b94ed955",
   "metadata": {},
   "outputs": [
    {
     "name": "stdout",
     "output_type": "stream",
     "text": [
      "R-squared: 0.35998928730181334\n",
      "MSE: 22.868610887382182\n",
      "RMSE: 4.78211364224881\n",
      "MAE: 3.475386722112797\n"
     ]
    }
   ],
   "source": [
    "# Test model and get performance metrics\n",
    "y_pred = rf_model.predict(X_test)\n",
    "r2 = r2_score(y_test, y_pred)\n",
    "mse = mean_squared_error(y_test, y_pred)\n",
    "rmse = mean_squared_error(y_test, y_pred, squared=False)\n",
    "mae = mean_absolute_error(y_test, y_pred)\n",
    "\n",
    "print(\"R-squared:\", r2)\n",
    "print(\"MSE:\", mse)\n",
    "print(\"RMSE:\", rmse)\n",
    "print(\"MAE:\", mae)"
   ]
  },
  {
   "cell_type": "markdown",
   "id": "efd23897",
   "metadata": {},
   "source": [
    "# Saving the model"
   ]
  },
  {
   "cell_type": "code",
   "execution_count": null,
   "id": "a5ae2a8a",
   "metadata": {},
   "outputs": [],
   "source": [
    "joblib.dump(rf_model, \"rf_model.sav\")"
   ]
  },
  {
   "cell_type": "markdown",
   "id": "c10baba0",
   "metadata": {},
   "source": [
    "# Loading the model"
   ]
  },
  {
   "cell_type": "code",
   "execution_count": null,
   "id": "51669736",
   "metadata": {},
   "outputs": [],
   "source": [
    "loaded_rf_model = joblib.load('rf_model.sav')"
   ]
  },
  {
   "cell_type": "markdown",
   "id": "201d1978",
   "metadata": {},
   "source": [
    "# Testing prediction for new features"
   ]
  },
  {
   "cell_type": "code",
   "execution_count": 106,
   "id": "6ee80fa5",
   "metadata": {},
   "outputs": [
    {
     "name": "stderr",
     "output_type": "stream",
     "text": [
      "C:\\Users\\BIMSARA\\AppData\\Local\\Programs\\Python\\Python311\\Lib\\site-packages\\sklearn\\base.py:439: UserWarning: X does not have valid feature names, but RandomForestRegressor was fitted with feature names\n",
      "  warnings.warn(\n"
     ]
    }
   ],
   "source": [
    "new_features = [[5, 10, 10, 0, 0 ]] # example feature values\n",
    "# new_trustworthy_score = mr_model.predict(new_features)\n",
    "new_trustworthy_score = loaded_rf_model.predict(new_features)"
   ]
  },
  {
   "cell_type": "code",
   "execution_count": 107,
   "id": "b466557a",
   "metadata": {},
   "outputs": [
    {
     "name": "stdout",
     "output_type": "stream",
     "text": [
      "trustworthy score:  69\n"
     ]
    }
   ],
   "source": [
    "print(\"trustworthy score: \", int(round(new_trustworthy_score[0], 0))) "
   ]
  },
  {
   "cell_type": "code",
   "execution_count": 108,
   "id": "d34d5bf1",
   "metadata": {},
   "outputs": [
    {
     "name": "stdout",
     "output_type": "stream",
     "text": [
      "New Trustworthy Score:  92\n"
     ]
    }
   ],
   "source": [
    "final_trust_score = (((new_trustworthy_score - 34.7) * (100 - 0)) / (72 - 34.7)) + 0\n",
    "trust_score = final_trust_score // 1 + 1\n",
    "print(\"New Trustworthy Score: \", int(round(trust_score[0], 0)))"
   ]
  },
  {
   "cell_type": "code",
   "execution_count": null,
   "id": "96950d28",
   "metadata": {},
   "outputs": [],
   "source": []
  },
  {
   "cell_type": "code",
   "execution_count": null,
   "id": "5f878af3",
   "metadata": {},
   "outputs": [],
   "source": []
  }
 ],
 "metadata": {
  "kernelspec": {
   "display_name": "Python 3 (ipykernel)",
   "language": "python",
   "name": "python3"
  },
  "language_info": {
   "codemirror_mode": {
    "name": "ipython",
    "version": 3
   },
   "file_extension": ".py",
   "mimetype": "text/x-python",
   "name": "python",
   "nbconvert_exporter": "python",
   "pygments_lexer": "ipython3",
   "version": "3.11.1"
  }
 },
 "nbformat": 4,
 "nbformat_minor": 5
}
