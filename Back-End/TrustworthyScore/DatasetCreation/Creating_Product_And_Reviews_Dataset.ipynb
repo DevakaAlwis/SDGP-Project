{
 "cells": [
  {
   "cell_type": "code",
   "execution_count": 2,
   "id": "22dd46ca",
   "metadata": {},
   "outputs": [],
   "source": [
    "#Import Libraries"
   ]
  },
  {
   "cell_type": "code",
   "execution_count": 3,
   "id": "58571b5c",
   "metadata": {},
   "outputs": [],
   "source": [
    "import json\n",
    "import itertools\n",
    "import pandas as pd\n",
    "import numpy as np\n",
    "import random"
   ]
  },
  {
   "cell_type": "code",
   "execution_count": null,
   "id": "6c37cc6a",
   "metadata": {},
   "outputs": [],
   "source": [
    "# Load the review and product datasets"
   ]
  },
  {
   "cell_type": "code",
   "execution_count": 142,
   "id": "590ddd86",
   "metadata": {},
   "outputs": [],
   "source": [
    "products_df=pd.read_csv('product_details.csv')\n",
    "reviews_df=pd.read_csv('product_reviews.csv')"
   ]
  },
  {
   "cell_type": "code",
   "execution_count": 143,
   "id": "591c6719",
   "metadata": {},
   "outputs": [],
   "source": [
    "#creating dataframes"
   ]
  },
  {
   "cell_type": "code",
   "execution_count": 4,
   "id": "ef9194b8",
   "metadata": {},
   "outputs": [],
   "source": [
    "new_df = pd.DataFrame()\n",
    "product_review_df = pd.DataFrame()"
   ]
  },
  {
   "cell_type": "code",
   "execution_count": null,
   "id": "69ff92f4",
   "metadata": {},
   "outputs": [],
   "source": [
    "#creating each data row"
   ]
  },
  {
   "cell_type": "code",
   "execution_count": 145,
   "id": "a8a25269",
   "metadata": {},
   "outputs": [],
   "source": [
    "# Iterate through each product\n",
    "count=0\n",
    "for i, product_row in products_df.iterrows():\n",
    "    new_df = product_row.to_frame().T\n",
    "    # Retrieve the review count of the product\n",
    "    review_count = product_row['review_count']\n",
    "    # Get the first n rows from the review dataset that correspond to the product\n",
    "    new_df = reviews_df[reviews_df['id'].between(count, (count+review_count)-1)]\n",
    "    count=count+review_count\n",
    "    new_df=new_df.drop(['id'], axis=1)\n",
    "    new_df = new_df.assign(asin=products_df['asin'][i], title=products_df['title'][i], price=products_df['price'][i], review_count=products_df['review_count'][i])\n",
    "    \n",
    "    # Concatenate the two dataframes along the columns axis\n",
    "    merged_df = pd.concat([new_df[['overall', 'reviewText', 'sentimentLabel', 'score']], new_df[['asin', 'title', 'price', 'review_count', ]],], axis=1)\n",
    "    product_review_df = pd.concat([product_review_df, merged_df])"
   ]
  },
  {
   "cell_type": "code",
   "execution_count": 155,
   "id": "49a1fff4",
   "metadata": {},
   "outputs": [
    {
     "data": {
      "text/html": [
       "<div>\n",
       "<style scoped>\n",
       "    .dataframe tbody tr th:only-of-type {\n",
       "        vertical-align: middle;\n",
       "    }\n",
       "\n",
       "    .dataframe tbody tr th {\n",
       "        vertical-align: top;\n",
       "    }\n",
       "\n",
       "    .dataframe thead th {\n",
       "        text-align: right;\n",
       "    }\n",
       "</style>\n",
       "<table border=\"1\" class=\"dataframe\">\n",
       "  <thead>\n",
       "    <tr style=\"text-align: right;\">\n",
       "      <th></th>\n",
       "      <th>overall</th>\n",
       "      <th>reviewText</th>\n",
       "      <th>sentimentLabel</th>\n",
       "      <th>score</th>\n",
       "      <th>asin</th>\n",
       "      <th>title</th>\n",
       "      <th>price</th>\n",
       "      <th>review_count</th>\n",
       "    </tr>\n",
       "  </thead>\n",
       "  <tbody>\n",
       "    <tr>\n",
       "      <th>0</th>\n",
       "      <td>5</td>\n",
       "      <td>This was the first time I read Garcia-Aguilera...</td>\n",
       "      <td>positive</td>\n",
       "      <td>98</td>\n",
       "      <td>0011300000</td>\n",
       "      <td>Genuine Geovision 1 Channel 3rd Party NVR IP S...</td>\n",
       "      <td>$65.00</td>\n",
       "      <td>120</td>\n",
       "    </tr>\n",
       "    <tr>\n",
       "      <th>1</th>\n",
       "      <td>5</td>\n",
       "      <td>As with all of Ms. Garcia-Aguilera's books, I ...</td>\n",
       "      <td>positive</td>\n",
       "      <td>94</td>\n",
       "      <td>0011300000</td>\n",
       "      <td>Genuine Geovision 1 Channel 3rd Party NVR IP S...</td>\n",
       "      <td>$65.00</td>\n",
       "      <td>120</td>\n",
       "    </tr>\n",
       "    <tr>\n",
       "      <th>2</th>\n",
       "      <td>5</td>\n",
       "      <td>I've not read any of Ms Aguilera's works befor...</td>\n",
       "      <td>positive</td>\n",
       "      <td>63</td>\n",
       "      <td>0011300000</td>\n",
       "      <td>Genuine Geovision 1 Channel 3rd Party NVR IP S...</td>\n",
       "      <td>$65.00</td>\n",
       "      <td>120</td>\n",
       "    </tr>\n",
       "    <tr>\n",
       "      <th>3</th>\n",
       "      <td>4</td>\n",
       "      <td>This romance novel is right up there with the ...</td>\n",
       "      <td>positive</td>\n",
       "      <td>99</td>\n",
       "      <td>0011300000</td>\n",
       "      <td>Genuine Geovision 1 Channel 3rd Party NVR IP S...</td>\n",
       "      <td>$65.00</td>\n",
       "      <td>120</td>\n",
       "    </tr>\n",
       "    <tr>\n",
       "      <th>4</th>\n",
       "      <td>5</td>\n",
       "      <td>Carolina Garcia Aguilera has done it again.  S...</td>\n",
       "      <td>positive</td>\n",
       "      <td>75</td>\n",
       "      <td>0011300000</td>\n",
       "      <td>Genuine Geovision 1 Channel 3rd Party NVR IP S...</td>\n",
       "      <td>$65.00</td>\n",
       "      <td>120</td>\n",
       "    </tr>\n",
       "    <tr>\n",
       "      <th>...</th>\n",
       "      <td>...</td>\n",
       "      <td>...</td>\n",
       "      <td>...</td>\n",
       "      <td>...</td>\n",
       "      <td>...</td>\n",
       "      <td>...</td>\n",
       "      <td>...</td>\n",
       "      <td>...</td>\n",
       "    </tr>\n",
       "    <tr>\n",
       "      <th>998593</th>\n",
       "      <td>5</td>\n",
       "      <td>This has an amazing amount of storage and can ...</td>\n",
       "      <td>positive</td>\n",
       "      <td>95</td>\n",
       "      <td>B0002XQI2E</td>\n",
       "      <td>Canon EOS 20D DSLR Camera (Body Only) (OLD MODEL)</td>\n",
       "      <td>$105.09</td>\n",
       "      <td>109</td>\n",
       "    </tr>\n",
       "    <tr>\n",
       "      <th>998594</th>\n",
       "      <td>5</td>\n",
       "      <td>This Item is wonderful I use all the time the ...</td>\n",
       "      <td>positive</td>\n",
       "      <td>95</td>\n",
       "      <td>B0002XQI2E</td>\n",
       "      <td>Canon EOS 20D DSLR Camera (Body Only) (OLD MODEL)</td>\n",
       "      <td>$105.09</td>\n",
       "      <td>109</td>\n",
       "    </tr>\n",
       "    <tr>\n",
       "      <th>998595</th>\n",
       "      <td>5</td>\n",
       "      <td>My card will not format on my Canon T3i. I've ...</td>\n",
       "      <td>positive</td>\n",
       "      <td>75</td>\n",
       "      <td>B0002XQI2E</td>\n",
       "      <td>Canon EOS 20D DSLR Camera (Body Only) (OLD MODEL)</td>\n",
       "      <td>$105.09</td>\n",
       "      <td>109</td>\n",
       "    </tr>\n",
       "    <tr>\n",
       "      <th>998596</th>\n",
       "      <td>5</td>\n",
       "      <td>It's getting difficult to find memory cards fo...</td>\n",
       "      <td>positive</td>\n",
       "      <td>89</td>\n",
       "      <td>B0002XQI2E</td>\n",
       "      <td>Canon EOS 20D DSLR Camera (Body Only) (OLD MODEL)</td>\n",
       "      <td>$105.09</td>\n",
       "      <td>109</td>\n",
       "    </tr>\n",
       "    <tr>\n",
       "      <th>998597</th>\n",
       "      <td>5</td>\n",
       "      <td>This works very well in my camera and I love i...</td>\n",
       "      <td>positive</td>\n",
       "      <td>89</td>\n",
       "      <td>B0002XQI2E</td>\n",
       "      <td>Canon EOS 20D DSLR Camera (Body Only) (OLD MODEL)</td>\n",
       "      <td>$105.09</td>\n",
       "      <td>109</td>\n",
       "    </tr>\n",
       "  </tbody>\n",
       "</table>\n",
       "<p>998598 rows × 8 columns</p>\n",
       "</div>"
      ],
      "text/plain": [
       "        overall                                         reviewText  \\\n",
       "0             5  This was the first time I read Garcia-Aguilera...   \n",
       "1             5  As with all of Ms. Garcia-Aguilera's books, I ...   \n",
       "2             5  I've not read any of Ms Aguilera's works befor...   \n",
       "3             4  This romance novel is right up there with the ...   \n",
       "4             5  Carolina Garcia Aguilera has done it again.  S...   \n",
       "...         ...                                                ...   \n",
       "998593        5  This has an amazing amount of storage and can ...   \n",
       "998594        5  This Item is wonderful I use all the time the ...   \n",
       "998595        5  My card will not format on my Canon T3i. I've ...   \n",
       "998596        5  It's getting difficult to find memory cards fo...   \n",
       "998597        5  This works very well in my camera and I love i...   \n",
       "\n",
       "       sentimentLabel  score        asin  \\\n",
       "0            positive     98  0011300000   \n",
       "1            positive     94  0011300000   \n",
       "2            positive     63  0011300000   \n",
       "3            positive     99  0011300000   \n",
       "4            positive     75  0011300000   \n",
       "...               ...    ...         ...   \n",
       "998593       positive     95  B0002XQI2E   \n",
       "998594       positive     95  B0002XQI2E   \n",
       "998595       positive     75  B0002XQI2E   \n",
       "998596       positive     89  B0002XQI2E   \n",
       "998597       positive     89  B0002XQI2E   \n",
       "\n",
       "                                                    title    price  \\\n",
       "0       Genuine Geovision 1 Channel 3rd Party NVR IP S...   $65.00   \n",
       "1       Genuine Geovision 1 Channel 3rd Party NVR IP S...   $65.00   \n",
       "2       Genuine Geovision 1 Channel 3rd Party NVR IP S...   $65.00   \n",
       "3       Genuine Geovision 1 Channel 3rd Party NVR IP S...   $65.00   \n",
       "4       Genuine Geovision 1 Channel 3rd Party NVR IP S...   $65.00   \n",
       "...                                                   ...      ...   \n",
       "998593  Canon EOS 20D DSLR Camera (Body Only) (OLD MODEL)  $105.09   \n",
       "998594  Canon EOS 20D DSLR Camera (Body Only) (OLD MODEL)  $105.09   \n",
       "998595  Canon EOS 20D DSLR Camera (Body Only) (OLD MODEL)  $105.09   \n",
       "998596  Canon EOS 20D DSLR Camera (Body Only) (OLD MODEL)  $105.09   \n",
       "998597  Canon EOS 20D DSLR Camera (Body Only) (OLD MODEL)  $105.09   \n",
       "\n",
       "        review_count  \n",
       "0                120  \n",
       "1                120  \n",
       "2                120  \n",
       "3                120  \n",
       "4                120  \n",
       "...              ...  \n",
       "998593           109  \n",
       "998594           109  \n",
       "998595           109  \n",
       "998596           109  \n",
       "998597           109  \n",
       "\n",
       "[998598 rows x 8 columns]"
      ]
     },
     "execution_count": 155,
     "metadata": {},
     "output_type": "execute_result"
    }
   ],
   "source": [
    "product_review_df"
   ]
  },
  {
   "cell_type": "code",
   "execution_count": null,
   "id": "02b37ba1",
   "metadata": {},
   "outputs": [],
   "source": [
    "Saving the "
   ]
  },
  {
   "cell_type": "code",
   "execution_count": 156,
   "id": "617d3e1a",
   "metadata": {},
   "outputs": [],
   "source": [
    "# Save the new dataset to a file or database\n",
    "product_review_df.to_csv('product_review_dataset_unorder.csv', index=False)"
   ]
  },
  {
   "cell_type": "code",
   "execution_count": 6,
   "id": "0bba0230",
   "metadata": {},
   "outputs": [],
   "source": [
    "df = product_review_df.reindex(columns=['asin', 'title', 'price', 'review_count', 'overall', 'reviewText', 'sentimentLabel', 'score'])"
   ]
  },
  {
   "cell_type": "code",
   "execution_count": 158,
   "id": "4871f1bd",
   "metadata": {},
   "outputs": [],
   "source": [
    "# Save the new dataset to a file or database\n",
    "df.to_csv('product_review_dataset.csv', index=False)"
   ]
  },
  {
   "cell_type": "code",
   "execution_count": 7,
   "id": "34b62a82",
   "metadata": {},
   "outputs": [
    {
     "ename": "KeyError",
     "evalue": "'asin'",
     "output_type": "error",
     "traceback": [
      "\u001b[1;31m---------------------------------------------------------------------------\u001b[0m",
      "\u001b[1;31mKeyError\u001b[0m                                  Traceback (most recent call last)",
      "\u001b[1;32m~\\anaconda3\\lib\\site-packages\\pandas\\core\\indexes\\base.py\u001b[0m in \u001b[0;36mget_loc\u001b[1;34m(self, key, method, tolerance)\u001b[0m\n\u001b[0;32m   3628\u001b[0m             \u001b[1;32mtry\u001b[0m\u001b[1;33m:\u001b[0m\u001b[1;33m\u001b[0m\u001b[1;33m\u001b[0m\u001b[0m\n\u001b[1;32m-> 3629\u001b[1;33m                 \u001b[1;32mreturn\u001b[0m \u001b[0mself\u001b[0m\u001b[1;33m.\u001b[0m\u001b[0m_engine\u001b[0m\u001b[1;33m.\u001b[0m\u001b[0mget_loc\u001b[0m\u001b[1;33m(\u001b[0m\u001b[0mcasted_key\u001b[0m\u001b[1;33m)\u001b[0m\u001b[1;33m\u001b[0m\u001b[1;33m\u001b[0m\u001b[0m\n\u001b[0m\u001b[0;32m   3630\u001b[0m             \u001b[1;32mexcept\u001b[0m \u001b[0mKeyError\u001b[0m \u001b[1;32mas\u001b[0m \u001b[0merr\u001b[0m\u001b[1;33m:\u001b[0m\u001b[1;33m\u001b[0m\u001b[1;33m\u001b[0m\u001b[0m\n",
      "\u001b[1;32m~\\anaconda3\\lib\\site-packages\\pandas\\_libs\\index.pyx\u001b[0m in \u001b[0;36mpandas._libs.index.IndexEngine.get_loc\u001b[1;34m()\u001b[0m\n",
      "\u001b[1;32m~\\anaconda3\\lib\\site-packages\\pandas\\_libs\\index.pyx\u001b[0m in \u001b[0;36mpandas._libs.index.IndexEngine.get_loc\u001b[1;34m()\u001b[0m\n",
      "\u001b[1;32mpandas\\_libs\\hashtable_class_helper.pxi\u001b[0m in \u001b[0;36mpandas._libs.hashtable.PyObjectHashTable.get_item\u001b[1;34m()\u001b[0m\n",
      "\u001b[1;32mpandas\\_libs\\hashtable_class_helper.pxi\u001b[0m in \u001b[0;36mpandas._libs.hashtable.PyObjectHashTable.get_item\u001b[1;34m()\u001b[0m\n",
      "\u001b[1;31mKeyError\u001b[0m: 'asin'",
      "\nThe above exception was the direct cause of the following exception:\n",
      "\u001b[1;31mKeyError\u001b[0m                                  Traceback (most recent call last)",
      "\u001b[1;32m~\\AppData\\Local\\Temp\\ipykernel_7040\\3481055643.py\u001b[0m in \u001b[0;36m<module>\u001b[1;34m\u001b[0m\n\u001b[1;32m----> 1\u001b[1;33m \u001b[0mproduct_review_df\u001b[0m\u001b[1;33m[\u001b[0m\u001b[1;34m'asin'\u001b[0m\u001b[1;33m]\u001b[0m\u001b[1;33m.\u001b[0m\u001b[0mcount\u001b[0m\u001b[1;33m(\u001b[0m\u001b[1;33m)\u001b[0m\u001b[1;33m\u001b[0m\u001b[1;33m\u001b[0m\u001b[0m\n\u001b[0m",
      "\u001b[1;32m~\\anaconda3\\lib\\site-packages\\pandas\\core\\frame.py\u001b[0m in \u001b[0;36m__getitem__\u001b[1;34m(self, key)\u001b[0m\n\u001b[0;32m   3503\u001b[0m             \u001b[1;32mif\u001b[0m \u001b[0mself\u001b[0m\u001b[1;33m.\u001b[0m\u001b[0mcolumns\u001b[0m\u001b[1;33m.\u001b[0m\u001b[0mnlevels\u001b[0m \u001b[1;33m>\u001b[0m \u001b[1;36m1\u001b[0m\u001b[1;33m:\u001b[0m\u001b[1;33m\u001b[0m\u001b[1;33m\u001b[0m\u001b[0m\n\u001b[0;32m   3504\u001b[0m                 \u001b[1;32mreturn\u001b[0m \u001b[0mself\u001b[0m\u001b[1;33m.\u001b[0m\u001b[0m_getitem_multilevel\u001b[0m\u001b[1;33m(\u001b[0m\u001b[0mkey\u001b[0m\u001b[1;33m)\u001b[0m\u001b[1;33m\u001b[0m\u001b[1;33m\u001b[0m\u001b[0m\n\u001b[1;32m-> 3505\u001b[1;33m             \u001b[0mindexer\u001b[0m \u001b[1;33m=\u001b[0m \u001b[0mself\u001b[0m\u001b[1;33m.\u001b[0m\u001b[0mcolumns\u001b[0m\u001b[1;33m.\u001b[0m\u001b[0mget_loc\u001b[0m\u001b[1;33m(\u001b[0m\u001b[0mkey\u001b[0m\u001b[1;33m)\u001b[0m\u001b[1;33m\u001b[0m\u001b[1;33m\u001b[0m\u001b[0m\n\u001b[0m\u001b[0;32m   3506\u001b[0m             \u001b[1;32mif\u001b[0m \u001b[0mis_integer\u001b[0m\u001b[1;33m(\u001b[0m\u001b[0mindexer\u001b[0m\u001b[1;33m)\u001b[0m\u001b[1;33m:\u001b[0m\u001b[1;33m\u001b[0m\u001b[1;33m\u001b[0m\u001b[0m\n\u001b[0;32m   3507\u001b[0m                 \u001b[0mindexer\u001b[0m \u001b[1;33m=\u001b[0m \u001b[1;33m[\u001b[0m\u001b[0mindexer\u001b[0m\u001b[1;33m]\u001b[0m\u001b[1;33m\u001b[0m\u001b[1;33m\u001b[0m\u001b[0m\n",
      "\u001b[1;32m~\\anaconda3\\lib\\site-packages\\pandas\\core\\indexes\\base.py\u001b[0m in \u001b[0;36mget_loc\u001b[1;34m(self, key, method, tolerance)\u001b[0m\n\u001b[0;32m   3629\u001b[0m                 \u001b[1;32mreturn\u001b[0m \u001b[0mself\u001b[0m\u001b[1;33m.\u001b[0m\u001b[0m_engine\u001b[0m\u001b[1;33m.\u001b[0m\u001b[0mget_loc\u001b[0m\u001b[1;33m(\u001b[0m\u001b[0mcasted_key\u001b[0m\u001b[1;33m)\u001b[0m\u001b[1;33m\u001b[0m\u001b[1;33m\u001b[0m\u001b[0m\n\u001b[0;32m   3630\u001b[0m             \u001b[1;32mexcept\u001b[0m \u001b[0mKeyError\u001b[0m \u001b[1;32mas\u001b[0m \u001b[0merr\u001b[0m\u001b[1;33m:\u001b[0m\u001b[1;33m\u001b[0m\u001b[1;33m\u001b[0m\u001b[0m\n\u001b[1;32m-> 3631\u001b[1;33m                 \u001b[1;32mraise\u001b[0m \u001b[0mKeyError\u001b[0m\u001b[1;33m(\u001b[0m\u001b[0mkey\u001b[0m\u001b[1;33m)\u001b[0m \u001b[1;32mfrom\u001b[0m \u001b[0merr\u001b[0m\u001b[1;33m\u001b[0m\u001b[1;33m\u001b[0m\u001b[0m\n\u001b[0m\u001b[0;32m   3632\u001b[0m             \u001b[1;32mexcept\u001b[0m \u001b[0mTypeError\u001b[0m\u001b[1;33m:\u001b[0m\u001b[1;33m\u001b[0m\u001b[1;33m\u001b[0m\u001b[0m\n\u001b[0;32m   3633\u001b[0m                 \u001b[1;31m# If we have a listlike key, _check_indexing_error will raise\u001b[0m\u001b[1;33m\u001b[0m\u001b[1;33m\u001b[0m\u001b[0m\n",
      "\u001b[1;31mKeyError\u001b[0m: 'asin'"
     ]
    }
   ],
   "source": [
    "product_review_df['asin'].count()"
   ]
  }
 ],
 "metadata": {
  "kernelspec": {
   "display_name": "Python 3 (ipykernel)",
   "language": "python",
   "name": "python3"
  },
  "language_info": {
   "codemirror_mode": {
    "name": "ipython",
    "version": 3
   },
   "file_extension": ".py",
   "mimetype": "text/x-python",
   "name": "python",
   "nbconvert_exporter": "python",
   "pygments_lexer": "ipython3",
   "version": "3.9.13"
  }
 },
 "nbformat": 4,
 "nbformat_minor": 5
}
