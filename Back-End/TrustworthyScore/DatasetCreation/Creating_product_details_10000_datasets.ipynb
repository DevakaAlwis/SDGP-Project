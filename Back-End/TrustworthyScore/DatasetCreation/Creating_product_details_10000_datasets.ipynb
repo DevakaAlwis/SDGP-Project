{
 "cells": [
  {
   "cell_type": "markdown",
   "id": "f501f237",
   "metadata": {},
   "source": [
    "# Import Libraries"
   ]
  },
  {
   "cell_type": "code",
   "execution_count": 2,
   "id": "5ae9a939",
   "metadata": {},
   "outputs": [],
   "source": [
    "import json\n",
    "import itertools\n",
    "import pandas as pd\n",
    "import numpy as np\n",
    "import random"
   ]
  },
  {
   "cell_type": "markdown",
   "id": "920f1cd8",
   "metadata": {},
   "source": [
    "# Declare filename, chunk size, range, file iteration number"
   ]
  },
  {
   "cell_type": "code",
   "execution_count": 3,
   "id": "ba3b148a",
   "metadata": {},
   "outputs": [],
   "source": [
    "filename = \"meta_Electronics.json\"\n",
    "num_objects = 100000"
   ]
  },
  {
   "cell_type": "markdown",
   "id": "a1141fc1",
   "metadata": {},
   "source": [
    "# Read 100k records save in a dateframe"
   ]
  },
  {
   "cell_type": "code",
   "execution_count": 4,
   "id": "34db66a9",
   "metadata": {},
   "outputs": [],
   "source": [
    "with open(filename) as f:\n",
    "    # use itertools to limit the number of JSON objects read in\n",
    "    limited_objects = itertools.islice(f, num_objects)\n",
    "\n",
    "    # use json.loads to parse each JSON object and store in a list\n",
    "    data = [json.loads(obj) for obj in limited_objects]\n",
    "\n",
    "# create a pandas dataframe from the list of JSON objects\n",
    "df = pd.DataFrame(data)"
   ]
  },
  {
   "cell_type": "code",
   "execution_count": 5,
   "id": "9111ec8a",
   "metadata": {},
   "outputs": [
    {
     "data": {
      "text/html": [
       "<div>\n",
       "<style scoped>\n",
       "    .dataframe tbody tr th:only-of-type {\n",
       "        vertical-align: middle;\n",
       "    }\n",
       "\n",
       "    .dataframe tbody tr th {\n",
       "        vertical-align: top;\n",
       "    }\n",
       "\n",
       "    .dataframe thead th {\n",
       "        text-align: right;\n",
       "    }\n",
       "</style>\n",
       "<table border=\"1\" class=\"dataframe\">\n",
       "  <thead>\n",
       "    <tr style=\"text-align: right;\">\n",
       "      <th></th>\n",
       "      <th>category</th>\n",
       "      <th>tech1</th>\n",
       "      <th>description</th>\n",
       "      <th>fit</th>\n",
       "      <th>title</th>\n",
       "      <th>also_buy</th>\n",
       "      <th>tech2</th>\n",
       "      <th>brand</th>\n",
       "      <th>feature</th>\n",
       "      <th>rank</th>\n",
       "      <th>also_view</th>\n",
       "      <th>main_cat</th>\n",
       "      <th>similar_item</th>\n",
       "      <th>date</th>\n",
       "      <th>price</th>\n",
       "      <th>asin</th>\n",
       "      <th>imageURL</th>\n",
       "      <th>imageURLHighRes</th>\n",
       "      <th>details</th>\n",
       "    </tr>\n",
       "  </thead>\n",
       "  <tbody>\n",
       "    <tr>\n",
       "      <th>0</th>\n",
       "      <td>[Electronics, Camera &amp;amp; Photo, Video Survei...</td>\n",
       "      <td></td>\n",
       "      <td>[The following camera brands and models have b...</td>\n",
       "      <td></td>\n",
       "      <td>Genuine Geovision 1 Channel 3rd Party NVR IP S...</td>\n",
       "      <td>[]</td>\n",
       "      <td></td>\n",
       "      <td>GeoVision</td>\n",
       "      <td>[Genuine Geovision 1 Channel NVR IP Software, ...</td>\n",
       "      <td>[&gt;#3,092 in Tools &amp;amp; Home Improvement &amp;gt; ...</td>\n",
       "      <td>[]</td>\n",
       "      <td>Camera &amp;amp; Photo</td>\n",
       "      <td></td>\n",
       "      <td>January 28, 2014</td>\n",
       "      <td>$65.00</td>\n",
       "      <td>0011300000</td>\n",
       "      <td>[https://images-na.ssl-images-amazon.com/image...</td>\n",
       "      <td>[https://images-na.ssl-images-amazon.com/image...</td>\n",
       "      <td>NaN</td>\n",
       "    </tr>\n",
       "    <tr>\n",
       "      <th>1</th>\n",
       "      <td>[Electronics, Camera &amp;amp; Photo]</td>\n",
       "      <td></td>\n",
       "      <td>[This second edition of the Handbook of Astron...</td>\n",
       "      <td></td>\n",
       "      <td>Books \"Handbook of Astronomical Image Processi...</td>\n",
       "      <td>[0999470906]</td>\n",
       "      <td></td>\n",
       "      <td>33 Books Co.</td>\n",
       "      <td>[Detailed chapters cover these fundamental top...</td>\n",
       "      <td>[&gt;#55,933 in Camera &amp;amp; Photo (See Top 100 i...</td>\n",
       "      <td>[0943396670, 1138055360, 0999470906]</td>\n",
       "      <td>Camera &amp;amp; Photo</td>\n",
       "      <td></td>\n",
       "      <td>June 17, 2003</td>\n",
       "      <td></td>\n",
       "      <td>0043396828</td>\n",
       "      <td>[https://images-na.ssl-images-amazon.com/image...</td>\n",
       "      <td>[https://images-na.ssl-images-amazon.com/image...</td>\n",
       "      <td>NaN</td>\n",
       "    </tr>\n",
       "    <tr>\n",
       "      <th>2</th>\n",
       "      <td>[Electronics, eBook Readers &amp;amp; Accessories,...</td>\n",
       "      <td></td>\n",
       "      <td>[A zesty tale. (Publishers Weekly)&lt;br /&gt;&lt;br /&gt;...</td>\n",
       "      <td></td>\n",
       "      <td>One Hot Summer</td>\n",
       "      <td>[0425167798, 039914157X]</td>\n",
       "      <td></td>\n",
       "      <td>Visit Amazon's Carolina Garcia Aguilera Page</td>\n",
       "      <td>[]</td>\n",
       "      <td>3,105,177 in Books (</td>\n",
       "      <td>[]</td>\n",
       "      <td>Books</td>\n",
       "      <td></td>\n",
       "      <td></td>\n",
       "      <td>$11.49</td>\n",
       "      <td>0060009810</td>\n",
       "      <td>[]</td>\n",
       "      <td>[]</td>\n",
       "      <td>NaN</td>\n",
       "    </tr>\n",
       "    <tr>\n",
       "      <th>3</th>\n",
       "      <td>[Electronics, eBook Readers &amp; Accessories, eBo...</td>\n",
       "      <td></td>\n",
       "      <td>[]</td>\n",
       "      <td></td>\n",
       "      <td>Hurray for Hattie Rabbit: Story and pictures (...</td>\n",
       "      <td>[0060219521, 0060219580, 0060219394]</td>\n",
       "      <td></td>\n",
       "      <td>Visit Amazon's Dick Gackenbach Page</td>\n",
       "      <td>[]</td>\n",
       "      <td>2,024,298 in Books (</td>\n",
       "      <td>[0060219521, 0060219475, 0060219394]</td>\n",
       "      <td>Books</td>\n",
       "      <td></td>\n",
       "      <td></td>\n",
       "      <td>.a-section.a-spacing-mini{margin-bottom:6px!im...</td>\n",
       "      <td>0060219602</td>\n",
       "      <td>[]</td>\n",
       "      <td>[]</td>\n",
       "      <td>NaN</td>\n",
       "    </tr>\n",
       "    <tr>\n",
       "      <th>4</th>\n",
       "      <td>[Electronics, eBook Readers &amp; Accessories, eBo...</td>\n",
       "      <td></td>\n",
       "      <td>[&amp;#8220;sex.lies.murder.fame. is brillllli&amp;#82...</td>\n",
       "      <td></td>\n",
       "      <td>sex.lies.murder.fame.: A Novel</td>\n",
       "      <td>[]</td>\n",
       "      <td></td>\n",
       "      <td>Visit Amazon's Lolita Files Page</td>\n",
       "      <td>[]</td>\n",
       "      <td>3,778,828 in Books (</td>\n",
       "      <td>[]</td>\n",
       "      <td>Books</td>\n",
       "      <td></td>\n",
       "      <td></td>\n",
       "      <td>$13.95</td>\n",
       "      <td>0060786817</td>\n",
       "      <td>[]</td>\n",
       "      <td>[]</td>\n",
       "      <td>NaN</td>\n",
       "    </tr>\n",
       "  </tbody>\n",
       "</table>\n",
       "</div>"
      ],
      "text/plain": [
       "                                            category tech1  \\\n",
       "0  [Electronics, Camera &amp; Photo, Video Survei...         \n",
       "1                  [Electronics, Camera &amp; Photo]         \n",
       "2  [Electronics, eBook Readers &amp; Accessories,...         \n",
       "3  [Electronics, eBook Readers & Accessories, eBo...         \n",
       "4  [Electronics, eBook Readers & Accessories, eBo...         \n",
       "\n",
       "                                         description fit  \\\n",
       "0  [The following camera brands and models have b...       \n",
       "1  [This second edition of the Handbook of Astron...       \n",
       "2  [A zesty tale. (Publishers Weekly)<br /><br />...       \n",
       "3                                                 []       \n",
       "4  [&#8220;sex.lies.murder.fame. is brillllli&#82...       \n",
       "\n",
       "                                               title  \\\n",
       "0  Genuine Geovision 1 Channel 3rd Party NVR IP S...   \n",
       "1  Books \"Handbook of Astronomical Image Processi...   \n",
       "2                                     One Hot Summer   \n",
       "3  Hurray for Hattie Rabbit: Story and pictures (...   \n",
       "4                     sex.lies.murder.fame.: A Novel   \n",
       "\n",
       "                               also_buy tech2  \\\n",
       "0                                    []         \n",
       "1                          [0999470906]         \n",
       "2              [0425167798, 039914157X]         \n",
       "3  [0060219521, 0060219580, 0060219394]         \n",
       "4                                    []         \n",
       "\n",
       "                                          brand  \\\n",
       "0                                     GeoVision   \n",
       "1                                  33 Books Co.   \n",
       "2  Visit Amazon's Carolina Garcia Aguilera Page   \n",
       "3           Visit Amazon's Dick Gackenbach Page   \n",
       "4              Visit Amazon's Lolita Files Page   \n",
       "\n",
       "                                             feature  \\\n",
       "0  [Genuine Geovision 1 Channel NVR IP Software, ...   \n",
       "1  [Detailed chapters cover these fundamental top...   \n",
       "2                                                 []   \n",
       "3                                                 []   \n",
       "4                                                 []   \n",
       "\n",
       "                                                rank  \\\n",
       "0  [>#3,092 in Tools &amp; Home Improvement &gt; ...   \n",
       "1  [>#55,933 in Camera &amp; Photo (See Top 100 i...   \n",
       "2                               3,105,177 in Books (   \n",
       "3                               2,024,298 in Books (   \n",
       "4                               3,778,828 in Books (   \n",
       "\n",
       "                              also_view            main_cat similar_item  \\\n",
       "0                                    []  Camera &amp; Photo                \n",
       "1  [0943396670, 1138055360, 0999470906]  Camera &amp; Photo                \n",
       "2                                    []               Books                \n",
       "3  [0060219521, 0060219475, 0060219394]               Books                \n",
       "4                                    []               Books                \n",
       "\n",
       "               date                                              price  \\\n",
       "0  January 28, 2014                                             $65.00   \n",
       "1     June 17, 2003                                                      \n",
       "2                                                               $11.49   \n",
       "3                    .a-section.a-spacing-mini{margin-bottom:6px!im...   \n",
       "4                                                               $13.95   \n",
       "\n",
       "         asin                                           imageURL  \\\n",
       "0  0011300000  [https://images-na.ssl-images-amazon.com/image...   \n",
       "1  0043396828  [https://images-na.ssl-images-amazon.com/image...   \n",
       "2  0060009810                                                 []   \n",
       "3  0060219602                                                 []   \n",
       "4  0060786817                                                 []   \n",
       "\n",
       "                                     imageURLHighRes details  \n",
       "0  [https://images-na.ssl-images-amazon.com/image...     NaN  \n",
       "1  [https://images-na.ssl-images-amazon.com/image...     NaN  \n",
       "2                                                 []     NaN  \n",
       "3                                                 []     NaN  \n",
       "4                                                 []     NaN  "
      ]
     },
     "execution_count": 5,
     "metadata": {},
     "output_type": "execute_result"
    }
   ],
   "source": [
    "df.head()"
   ]
  },
  {
   "cell_type": "code",
   "execution_count": 6,
   "id": "c6337746",
   "metadata": {},
   "outputs": [
    {
     "data": {
      "text/plain": [
       "asin     100000\n",
       "title    100000\n",
       "price    100000\n",
       "dtype: int64"
      ]
     },
     "execution_count": 6,
     "metadata": {},
     "output_type": "execute_result"
    }
   ],
   "source": [
    "new_products_df = pd.DataFrame()\n",
    "new_products_df['asin']= df['asin']\n",
    "new_products_df['title']=df['title']\n",
    "new_products_df['price']=df['price']\n",
    "new_products_df.count()"
   ]
  },
  {
   "cell_type": "code",
   "execution_count": 7,
   "id": "5f70f8e7",
   "metadata": {},
   "outputs": [
    {
     "data": {
      "text/html": [
       "<div>\n",
       "<style scoped>\n",
       "    .dataframe tbody tr th:only-of-type {\n",
       "        vertical-align: middle;\n",
       "    }\n",
       "\n",
       "    .dataframe tbody tr th {\n",
       "        vertical-align: top;\n",
       "    }\n",
       "\n",
       "    .dataframe thead th {\n",
       "        text-align: right;\n",
       "    }\n",
       "</style>\n",
       "<table border=\"1\" class=\"dataframe\">\n",
       "  <thead>\n",
       "    <tr style=\"text-align: right;\">\n",
       "      <th></th>\n",
       "      <th>asin</th>\n",
       "      <th>title</th>\n",
       "      <th>price</th>\n",
       "    </tr>\n",
       "  </thead>\n",
       "  <tbody>\n",
       "    <tr>\n",
       "      <th>0</th>\n",
       "      <td>0011300000</td>\n",
       "      <td>Genuine Geovision 1 Channel 3rd Party NVR IP S...</td>\n",
       "      <td>$65.00</td>\n",
       "    </tr>\n",
       "    <tr>\n",
       "      <th>1</th>\n",
       "      <td>0043396828</td>\n",
       "      <td>Books \"Handbook of Astronomical Image Processi...</td>\n",
       "      <td></td>\n",
       "    </tr>\n",
       "    <tr>\n",
       "      <th>2</th>\n",
       "      <td>0060009810</td>\n",
       "      <td>One Hot Summer</td>\n",
       "      <td>$11.49</td>\n",
       "    </tr>\n",
       "    <tr>\n",
       "      <th>3</th>\n",
       "      <td>0060219602</td>\n",
       "      <td>Hurray for Hattie Rabbit: Story and pictures (...</td>\n",
       "      <td>.a-section.a-spacing-mini{margin-bottom:6px!im...</td>\n",
       "    </tr>\n",
       "    <tr>\n",
       "      <th>4</th>\n",
       "      <td>0060786817</td>\n",
       "      <td>sex.lies.murder.fame.: A Novel</td>\n",
       "      <td>$13.95</td>\n",
       "    </tr>\n",
       "  </tbody>\n",
       "</table>\n",
       "</div>"
      ],
      "text/plain": [
       "         asin                                              title  \\\n",
       "0  0011300000  Genuine Geovision 1 Channel 3rd Party NVR IP S...   \n",
       "1  0043396828  Books \"Handbook of Astronomical Image Processi...   \n",
       "2  0060009810                                     One Hot Summer   \n",
       "3  0060219602  Hurray for Hattie Rabbit: Story and pictures (...   \n",
       "4  0060786817                     sex.lies.murder.fame.: A Novel   \n",
       "\n",
       "                                               price  \n",
       "0                                             $65.00  \n",
       "1                                                     \n",
       "2                                             $11.49  \n",
       "3  .a-section.a-spacing-mini{margin-bottom:6px!im...  \n",
       "4                                             $13.95  "
      ]
     },
     "execution_count": 7,
     "metadata": {},
     "output_type": "execute_result"
    }
   ],
   "source": [
    "new_products_df.head()"
   ]
  },
  {
   "cell_type": "markdown",
   "id": "3a43771f",
   "metadata": {},
   "source": [
    "# Data Cleaning"
   ]
  },
  {
   "cell_type": "markdown",
   "id": "a99044c8",
   "metadata": {},
   "source": [
    "## Replace any empty strings in the price column with np.nan objects"
   ]
  },
  {
   "cell_type": "code",
   "execution_count": 8,
   "id": "1a0ced39",
   "metadata": {},
   "outputs": [
    {
     "data": {
      "text/plain": [
       "asin     100000\n",
       "title     99998\n",
       "price     32760\n",
       "dtype: int64"
      ]
     },
     "execution_count": 8,
     "metadata": {},
     "output_type": "execute_result"
    }
   ],
   "source": [
    "new_products_df['asin'].replace('', np.nan, inplace=True)\n",
    "new_products_df['title'].replace('', np.nan, inplace=True)\n",
    "new_products_df['price'].replace('', np.nan, inplace=True)\n",
    "new_products_df.count()"
   ]
  },
  {
   "cell_type": "markdown",
   "id": "c78eac03",
   "metadata": {},
   "source": [
    "## Dropping the NAN values"
   ]
  },
  {
   "cell_type": "code",
   "execution_count": 9,
   "id": "0fb2d81a",
   "metadata": {},
   "outputs": [
    {
     "data": {
      "text/plain": [
       "0"
      ]
     },
     "execution_count": 9,
     "metadata": {},
     "output_type": "execute_result"
    }
   ],
   "source": [
    "new_products_df['asin'].isnull().sum()"
   ]
  },
  {
   "cell_type": "code",
   "execution_count": 10,
   "id": "3d94794f",
   "metadata": {},
   "outputs": [
    {
     "data": {
      "text/plain": [
       "2"
      ]
     },
     "execution_count": 10,
     "metadata": {},
     "output_type": "execute_result"
    }
   ],
   "source": [
    "new_products_df['title'].isnull().sum()"
   ]
  },
  {
   "cell_type": "code",
   "execution_count": 11,
   "id": "ad7cd707",
   "metadata": {},
   "outputs": [
    {
     "data": {
      "text/plain": [
       "67240"
      ]
     },
     "execution_count": 11,
     "metadata": {},
     "output_type": "execute_result"
    }
   ],
   "source": [
    "new_products_df['price'].isnull().sum()"
   ]
  },
  {
   "cell_type": "code",
   "execution_count": 12,
   "id": "3f81f31a",
   "metadata": {},
   "outputs": [],
   "source": [
    "new_products_df.dropna(subset=['asin'], inplace=True)\n",
    "new_products_df.dropna(subset=['title'], inplace=True)\n",
    "new_products_df.dropna(subset=['price'], inplace=True)"
   ]
  },
  {
   "cell_type": "code",
   "execution_count": 13,
   "id": "ed2d50ff",
   "metadata": {},
   "outputs": [
    {
     "data": {
      "text/plain": [
       "asin     32758\n",
       "title    32758\n",
       "price    32758\n",
       "dtype: int64"
      ]
     },
     "execution_count": 13,
     "metadata": {},
     "output_type": "execute_result"
    }
   ],
   "source": [
    "new_products_df.count()"
   ]
  },
  {
   "cell_type": "code",
   "execution_count": 14,
   "id": "0e782e65",
   "metadata": {},
   "outputs": [],
   "source": [
    "new_products_df.to_csv('product_details_sample.csv',index=False)"
   ]
  },
  {
   "cell_type": "markdown",
   "id": "df729ace",
   "metadata": {},
   "source": [
    "## Dropping the price by given partial string"
   ]
  },
  {
   "cell_type": "code",
   "execution_count": 15,
   "id": "2942eb42",
   "metadata": {},
   "outputs": [],
   "source": [
    "# drop rows that contain the partial string\n",
    "new_products_df=new_products_df[~new_products_df.price.str.contains(\"a|<\")]"
   ]
  },
  {
   "cell_type": "code",
   "execution_count": 16,
   "id": "abc79c89",
   "metadata": {},
   "outputs": [
    {
     "data": {
      "text/html": [
       "<div>\n",
       "<style scoped>\n",
       "    .dataframe tbody tr th:only-of-type {\n",
       "        vertical-align: middle;\n",
       "    }\n",
       "\n",
       "    .dataframe tbody tr th {\n",
       "        vertical-align: top;\n",
       "    }\n",
       "\n",
       "    .dataframe thead th {\n",
       "        text-align: right;\n",
       "    }\n",
       "</style>\n",
       "<table border=\"1\" class=\"dataframe\">\n",
       "  <thead>\n",
       "    <tr style=\"text-align: right;\">\n",
       "      <th></th>\n",
       "      <th>asin</th>\n",
       "      <th>title</th>\n",
       "      <th>price</th>\n",
       "    </tr>\n",
       "  </thead>\n",
       "  <tbody>\n",
       "    <tr>\n",
       "      <th>0</th>\n",
       "      <td>0011300000</td>\n",
       "      <td>Genuine Geovision 1 Channel 3rd Party NVR IP S...</td>\n",
       "      <td>$65.00</td>\n",
       "    </tr>\n",
       "    <tr>\n",
       "      <th>2</th>\n",
       "      <td>0060009810</td>\n",
       "      <td>One Hot Summer</td>\n",
       "      <td>$11.49</td>\n",
       "    </tr>\n",
       "    <tr>\n",
       "      <th>4</th>\n",
       "      <td>0060786817</td>\n",
       "      <td>sex.lies.murder.fame.: A Novel</td>\n",
       "      <td>$13.95</td>\n",
       "    </tr>\n",
       "    <tr>\n",
       "      <th>6</th>\n",
       "      <td>0091912407</td>\n",
       "      <td>Girl with a One-track Mind: Confessions of the...</td>\n",
       "      <td>$4.76</td>\n",
       "    </tr>\n",
       "    <tr>\n",
       "      <th>8</th>\n",
       "      <td>0132492776</td>\n",
       "      <td>Wireless Bluetooth Headphones Earbuds with Mic...</td>\n",
       "      <td>$7.99</td>\n",
       "    </tr>\n",
       "    <tr>\n",
       "      <th>...</th>\n",
       "      <td>...</td>\n",
       "      <td>...</td>\n",
       "      <td>...</td>\n",
       "    </tr>\n",
       "    <tr>\n",
       "      <th>99980</th>\n",
       "      <td>B000NDLOHM</td>\n",
       "      <td>Wireless Display Dongle Receiver,ONTOTL HDMI 1...</td>\n",
       "      <td>$2.00</td>\n",
       "    </tr>\n",
       "    <tr>\n",
       "      <th>99986</th>\n",
       "      <td>B000NDQ2OW</td>\n",
       "      <td>Micro Connectors G05-302SL VGA HD15 Female To ...</td>\n",
       "      <td>$3.99</td>\n",
       "    </tr>\n",
       "    <tr>\n",
       "      <th>99988</th>\n",
       "      <td>B000NDQ2AG</td>\n",
       "      <td>2GB Memorystick Pro Duo Gaming Edition MSDP2GB...</td>\n",
       "      <td>$7.99</td>\n",
       "    </tr>\n",
       "    <tr>\n",
       "      <th>99992</th>\n",
       "      <td>B000NDQ38W</td>\n",
       "      <td>APC UPS Battery Replacement for APC Smart-UPS ...</td>\n",
       "      <td>$3.80</td>\n",
       "    </tr>\n",
       "    <tr>\n",
       "      <th>99999</th>\n",
       "      <td>B000NDQ6B6</td>\n",
       "      <td>Vidpro VB-6 Rotating Arm Flash Bracket with E-...</td>\n",
       "      <td>$4.52</td>\n",
       "    </tr>\n",
       "  </tbody>\n",
       "</table>\n",
       "<p>30247 rows × 3 columns</p>\n",
       "</div>"
      ],
      "text/plain": [
       "             asin                                              title   price\n",
       "0      0011300000  Genuine Geovision 1 Channel 3rd Party NVR IP S...  $65.00\n",
       "2      0060009810                                     One Hot Summer  $11.49\n",
       "4      0060786817                     sex.lies.murder.fame.: A Novel  $13.95\n",
       "6      0091912407  Girl with a One-track Mind: Confessions of the...   $4.76\n",
       "8      0132492776  Wireless Bluetooth Headphones Earbuds with Mic...   $7.99\n",
       "...           ...                                                ...     ...\n",
       "99980  B000NDLOHM  Wireless Display Dongle Receiver,ONTOTL HDMI 1...   $2.00\n",
       "99986  B000NDQ2OW  Micro Connectors G05-302SL VGA HD15 Female To ...   $3.99\n",
       "99988  B000NDQ2AG  2GB Memorystick Pro Duo Gaming Edition MSDP2GB...   $7.99\n",
       "99992  B000NDQ38W  APC UPS Battery Replacement for APC Smart-UPS ...   $3.80\n",
       "99999  B000NDQ6B6  Vidpro VB-6 Rotating Arm Flash Bracket with E-...   $4.52\n",
       "\n",
       "[30247 rows x 3 columns]"
      ]
     },
     "execution_count": 16,
     "metadata": {},
     "output_type": "execute_result"
    }
   ],
   "source": [
    "new_products_df"
   ]
  },
  {
   "cell_type": "markdown",
   "id": "43ebe012",
   "metadata": {},
   "source": [
    "# Creating the review_count column "
   ]
  },
  {
   "cell_type": "code",
   "execution_count": 27,
   "id": "2773e8aa",
   "metadata": {},
   "outputs": [],
   "source": [
    "new_products_df['review_count']=[random.randint(0, 200) for i in range(len(new_products_df))]"
   ]
  },
  {
   "cell_type": "code",
   "execution_count": 28,
   "id": "9a62d55e",
   "metadata": {},
   "outputs": [
    {
     "data": {
      "text/html": [
       "<div>\n",
       "<style scoped>\n",
       "    .dataframe tbody tr th:only-of-type {\n",
       "        vertical-align: middle;\n",
       "    }\n",
       "\n",
       "    .dataframe tbody tr th {\n",
       "        vertical-align: top;\n",
       "    }\n",
       "\n",
       "    .dataframe thead th {\n",
       "        text-align: right;\n",
       "    }\n",
       "</style>\n",
       "<table border=\"1\" class=\"dataframe\">\n",
       "  <thead>\n",
       "    <tr style=\"text-align: right;\">\n",
       "      <th></th>\n",
       "      <th>asin</th>\n",
       "      <th>title</th>\n",
       "      <th>price</th>\n",
       "      <th>review_count</th>\n",
       "    </tr>\n",
       "  </thead>\n",
       "  <tbody>\n",
       "    <tr>\n",
       "      <th>0</th>\n",
       "      <td>0011300000</td>\n",
       "      <td>Genuine Geovision 1 Channel 3rd Party NVR IP S...</td>\n",
       "      <td>$65.00</td>\n",
       "      <td>120</td>\n",
       "    </tr>\n",
       "    <tr>\n",
       "      <th>2</th>\n",
       "      <td>0060009810</td>\n",
       "      <td>One Hot Summer</td>\n",
       "      <td>$11.49</td>\n",
       "      <td>6</td>\n",
       "    </tr>\n",
       "    <tr>\n",
       "      <th>4</th>\n",
       "      <td>0060786817</td>\n",
       "      <td>sex.lies.murder.fame.: A Novel</td>\n",
       "      <td>$13.95</td>\n",
       "      <td>7</td>\n",
       "    </tr>\n",
       "    <tr>\n",
       "      <th>6</th>\n",
       "      <td>0091912407</td>\n",
       "      <td>Girl with a One-track Mind: Confessions of the...</td>\n",
       "      <td>$4.76</td>\n",
       "      <td>120</td>\n",
       "    </tr>\n",
       "    <tr>\n",
       "      <th>8</th>\n",
       "      <td>0132492776</td>\n",
       "      <td>Wireless Bluetooth Headphones Earbuds with Mic...</td>\n",
       "      <td>$7.99</td>\n",
       "      <td>50</td>\n",
       "    </tr>\n",
       "    <tr>\n",
       "      <th>...</th>\n",
       "      <td>...</td>\n",
       "      <td>...</td>\n",
       "      <td>...</td>\n",
       "      <td>...</td>\n",
       "    </tr>\n",
       "    <tr>\n",
       "      <th>99980</th>\n",
       "      <td>B000NDLOHM</td>\n",
       "      <td>Wireless Display Dongle Receiver,ONTOTL HDMI 1...</td>\n",
       "      <td>$2.00</td>\n",
       "      <td>184</td>\n",
       "    </tr>\n",
       "    <tr>\n",
       "      <th>99986</th>\n",
       "      <td>B000NDQ2OW</td>\n",
       "      <td>Micro Connectors G05-302SL VGA HD15 Female To ...</td>\n",
       "      <td>$3.99</td>\n",
       "      <td>43</td>\n",
       "    </tr>\n",
       "    <tr>\n",
       "      <th>99988</th>\n",
       "      <td>B000NDQ2AG</td>\n",
       "      <td>2GB Memorystick Pro Duo Gaming Edition MSDP2GB...</td>\n",
       "      <td>$7.99</td>\n",
       "      <td>174</td>\n",
       "    </tr>\n",
       "    <tr>\n",
       "      <th>99992</th>\n",
       "      <td>B000NDQ38W</td>\n",
       "      <td>APC UPS Battery Replacement for APC Smart-UPS ...</td>\n",
       "      <td>$3.80</td>\n",
       "      <td>193</td>\n",
       "    </tr>\n",
       "    <tr>\n",
       "      <th>99999</th>\n",
       "      <td>B000NDQ6B6</td>\n",
       "      <td>Vidpro VB-6 Rotating Arm Flash Bracket with E-...</td>\n",
       "      <td>$4.52</td>\n",
       "      <td>64</td>\n",
       "    </tr>\n",
       "  </tbody>\n",
       "</table>\n",
       "<p>30247 rows × 4 columns</p>\n",
       "</div>"
      ],
      "text/plain": [
       "             asin                                              title   price  \\\n",
       "0      0011300000  Genuine Geovision 1 Channel 3rd Party NVR IP S...  $65.00   \n",
       "2      0060009810                                     One Hot Summer  $11.49   \n",
       "4      0060786817                     sex.lies.murder.fame.: A Novel  $13.95   \n",
       "6      0091912407  Girl with a One-track Mind: Confessions of the...   $4.76   \n",
       "8      0132492776  Wireless Bluetooth Headphones Earbuds with Mic...   $7.99   \n",
       "...           ...                                                ...     ...   \n",
       "99980  B000NDLOHM  Wireless Display Dongle Receiver,ONTOTL HDMI 1...   $2.00   \n",
       "99986  B000NDQ2OW  Micro Connectors G05-302SL VGA HD15 Female To ...   $3.99   \n",
       "99988  B000NDQ2AG  2GB Memorystick Pro Duo Gaming Edition MSDP2GB...   $7.99   \n",
       "99992  B000NDQ38W  APC UPS Battery Replacement for APC Smart-UPS ...   $3.80   \n",
       "99999  B000NDQ6B6  Vidpro VB-6 Rotating Arm Flash Bracket with E-...   $4.52   \n",
       "\n",
       "       review_count  \n",
       "0               120  \n",
       "2                 6  \n",
       "4                 7  \n",
       "6               120  \n",
       "8                50  \n",
       "...             ...  \n",
       "99980           184  \n",
       "99986            43  \n",
       "99988           174  \n",
       "99992           193  \n",
       "99999            64  \n",
       "\n",
       "[30247 rows x 4 columns]"
      ]
     },
     "execution_count": 28,
     "metadata": {},
     "output_type": "execute_result"
    }
   ],
   "source": [
    "new_products_df"
   ]
  },
  {
   "cell_type": "code",
   "execution_count": 29,
   "id": "eb875901",
   "metadata": {},
   "outputs": [
    {
     "data": {
      "text/plain": [
       "3011384"
      ]
     },
     "execution_count": 29,
     "metadata": {},
     "output_type": "execute_result"
    }
   ],
   "source": [
    "new_products_df['review_count'].sum()"
   ]
  },
  {
   "cell_type": "code",
   "execution_count": 30,
   "id": "71162507",
   "metadata": {},
   "outputs": [
    {
     "data": {
      "text/html": [
       "<div>\n",
       "<style scoped>\n",
       "    .dataframe tbody tr th:only-of-type {\n",
       "        vertical-align: middle;\n",
       "    }\n",
       "\n",
       "    .dataframe tbody tr th {\n",
       "        vertical-align: top;\n",
       "    }\n",
       "\n",
       "    .dataframe thead th {\n",
       "        text-align: right;\n",
       "    }\n",
       "</style>\n",
       "<table border=\"1\" class=\"dataframe\">\n",
       "  <thead>\n",
       "    <tr style=\"text-align: right;\">\n",
       "      <th></th>\n",
       "      <th>asin</th>\n",
       "      <th>title</th>\n",
       "      <th>price</th>\n",
       "      <th>review_count</th>\n",
       "    </tr>\n",
       "  </thead>\n",
       "  <tbody>\n",
       "    <tr>\n",
       "      <th>0</th>\n",
       "      <td>0011300000</td>\n",
       "      <td>Genuine Geovision 1 Channel 3rd Party NVR IP S...</td>\n",
       "      <td>$65.00</td>\n",
       "      <td>120</td>\n",
       "    </tr>\n",
       "    <tr>\n",
       "      <th>2</th>\n",
       "      <td>0060009810</td>\n",
       "      <td>One Hot Summer</td>\n",
       "      <td>$11.49</td>\n",
       "      <td>6</td>\n",
       "    </tr>\n",
       "    <tr>\n",
       "      <th>4</th>\n",
       "      <td>0060786817</td>\n",
       "      <td>sex.lies.murder.fame.: A Novel</td>\n",
       "      <td>$13.95</td>\n",
       "      <td>7</td>\n",
       "    </tr>\n",
       "    <tr>\n",
       "      <th>6</th>\n",
       "      <td>0091912407</td>\n",
       "      <td>Girl with a One-track Mind: Confessions of the...</td>\n",
       "      <td>$4.76</td>\n",
       "      <td>120</td>\n",
       "    </tr>\n",
       "    <tr>\n",
       "      <th>8</th>\n",
       "      <td>0132492776</td>\n",
       "      <td>Wireless Bluetooth Headphones Earbuds with Mic...</td>\n",
       "      <td>$7.99</td>\n",
       "      <td>50</td>\n",
       "    </tr>\n",
       "    <tr>\n",
       "      <th>...</th>\n",
       "      <td>...</td>\n",
       "      <td>...</td>\n",
       "      <td>...</td>\n",
       "      <td>...</td>\n",
       "    </tr>\n",
       "    <tr>\n",
       "      <th>31797</th>\n",
       "      <td>B0002XN73C</td>\n",
       "      <td>reEVOlution iSkin eVot Silicone Case for 40 GB...</td>\n",
       "      <td>$6.04</td>\n",
       "      <td>127</td>\n",
       "    </tr>\n",
       "    <tr>\n",
       "      <th>31809</th>\n",
       "      <td>B0002XNSVI</td>\n",
       "      <td>Hitachi Deskstar 0A30229 400GB SATA/150 7200RP...</td>\n",
       "      <td>$9.99</td>\n",
       "      <td>75</td>\n",
       "    </tr>\n",
       "    <tr>\n",
       "      <th>31812</th>\n",
       "      <td>B0002XQJFA</td>\n",
       "      <td>Canon EOS 20D DSLR Camera with EF-S 18-55mm f/...</td>\n",
       "      <td>$69.35</td>\n",
       "      <td>162</td>\n",
       "    </tr>\n",
       "    <tr>\n",
       "      <th>31813</th>\n",
       "      <td>B0002XQKEK</td>\n",
       "      <td>Opteka 10 Peice Deluxe Lens/Digital Camera Cle...</td>\n",
       "      <td>$4.95</td>\n",
       "      <td>109</td>\n",
       "    </tr>\n",
       "    <tr>\n",
       "      <th>31814</th>\n",
       "      <td>B0002XQI2E</td>\n",
       "      <td>Canon EOS 20D DSLR Camera (Body Only) (OLD MODEL)</td>\n",
       "      <td>$105.09</td>\n",
       "      <td>109</td>\n",
       "    </tr>\n",
       "  </tbody>\n",
       "</table>\n",
       "<p>10000 rows × 4 columns</p>\n",
       "</div>"
      ],
      "text/plain": [
       "             asin                                              title    price  \\\n",
       "0      0011300000  Genuine Geovision 1 Channel 3rd Party NVR IP S...   $65.00   \n",
       "2      0060009810                                     One Hot Summer   $11.49   \n",
       "4      0060786817                     sex.lies.murder.fame.: A Novel   $13.95   \n",
       "6      0091912407  Girl with a One-track Mind: Confessions of the...    $4.76   \n",
       "8      0132492776  Wireless Bluetooth Headphones Earbuds with Mic...    $7.99   \n",
       "...           ...                                                ...      ...   \n",
       "31797  B0002XN73C  reEVOlution iSkin eVot Silicone Case for 40 GB...    $6.04   \n",
       "31809  B0002XNSVI  Hitachi Deskstar 0A30229 400GB SATA/150 7200RP...    $9.99   \n",
       "31812  B0002XQJFA  Canon EOS 20D DSLR Camera with EF-S 18-55mm f/...   $69.35   \n",
       "31813  B0002XQKEK  Opteka 10 Peice Deluxe Lens/Digital Camera Cle...    $4.95   \n",
       "31814  B0002XQI2E  Canon EOS 20D DSLR Camera (Body Only) (OLD MODEL)  $105.09   \n",
       "\n",
       "       review_count  \n",
       "0               120  \n",
       "2                 6  \n",
       "4                 7  \n",
       "6               120  \n",
       "8                50  \n",
       "...             ...  \n",
       "31797           127  \n",
       "31809            75  \n",
       "31812           162  \n",
       "31813           109  \n",
       "31814           109  \n",
       "\n",
       "[10000 rows x 4 columns]"
      ]
     },
     "execution_count": 30,
     "metadata": {},
     "output_type": "execute_result"
    }
   ],
   "source": [
    "new_sliced_products_df=new_products_df[0:10000]\n",
    "new_sliced_products_df"
   ]
  },
  {
   "cell_type": "code",
   "execution_count": 31,
   "id": "5e74336d",
   "metadata": {},
   "outputs": [
    {
     "data": {
      "text/plain": [
       "998598"
      ]
     },
     "execution_count": 31,
     "metadata": {},
     "output_type": "execute_result"
    }
   ],
   "source": [
    "new_sliced_products_df['review_count'].sum()"
   ]
  },
  {
   "cell_type": "code",
   "execution_count": 32,
   "id": "7620b760",
   "metadata": {},
   "outputs": [],
   "source": [
    "new_products_df.to_csv('product_details_without_slice.csv',index=False)"
   ]
  },
  {
   "cell_type": "code",
   "execution_count": 33,
   "id": "939381e4",
   "metadata": {},
   "outputs": [],
   "source": [
    "new_sliced_products_df.to_csv('product_details.csv',index=False)"
   ]
  },
  {
   "cell_type": "code",
   "execution_count": null,
   "id": "0d8d3874",
   "metadata": {},
   "outputs": [],
   "source": []
  },
  {
   "cell_type": "code",
   "execution_count": null,
   "id": "bbd9163c",
   "metadata": {},
   "outputs": [],
   "source": []
  }
 ],
 "metadata": {
  "kernelspec": {
   "display_name": "Python 3 (ipykernel)",
   "language": "python",
   "name": "python3"
  },
  "language_info": {
   "codemirror_mode": {
    "name": "ipython",
    "version": 3
   },
   "file_extension": ".py",
   "mimetype": "text/x-python",
   "name": "python",
   "nbconvert_exporter": "python",
   "pygments_lexer": "ipython3",
   "version": "3.9.13"
  }
 },
 "nbformat": 4,
 "nbformat_minor": 5
}
