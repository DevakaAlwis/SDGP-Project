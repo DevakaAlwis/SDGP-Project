{
 "cells": [
  {
   "cell_type": "markdown",
   "metadata": {},
   "source": [
    "# Importing Libraries"
   ]
  },
  {
   "cell_type": "code",
   "execution_count": 1,
   "metadata": {
    "colab": {
     "base_uri": "https://localhost:8080/"
    },
    "executionInfo": {
     "elapsed": 40626,
     "status": "ok",
     "timestamp": 1678571164104,
     "user": {
      "displayName": "Bimsara Rathnayake",
      "userId": "16353224368554842161"
     },
     "user_tz": -330
    },
    "id": "bVVWPCiFujBF",
    "outputId": "16aa7185-1ecb-42e6-f1fe-7235fab659df"
   },
   "outputs": [
    {
     "name": "stderr",
     "output_type": "stream",
     "text": [
      "[nltk_data] Downloading package vader_lexicon to\n",
      "[nltk_data]     C:\\Users\\BIMSARA\\AppData\\Roaming\\nltk_data...\n",
      "[nltk_data]   Package vader_lexicon is already up-to-date!\n",
      "[nltk_data] Downloading package punkt to\n",
      "[nltk_data]     C:\\Users\\BIMSARA\\AppData\\Roaming\\nltk_data...\n",
      "[nltk_data]   Package punkt is already up-to-date!\n",
      "[nltk_data] Downloading package wordnet to\n",
      "[nltk_data]     C:\\Users\\BIMSARA\\AppData\\Roaming\\nltk_data...\n",
      "[nltk_data]   Package wordnet is already up-to-date!\n"
     ]
    }
   ],
   "source": [
    "import pandas as pd\n",
    "import numpy as np\n",
    "from sklearn.feature_extraction.text import TfidfVectorizer\n",
    "from sklearn.model_selection import train_test_split, GridSearchCV \n",
    "from sklearn.svm import SVC\n",
    "from sklearn.metrics import accuracy_score, precision_score, recall_score, f1_score, roc_auc_score, average_precision_score\n",
    "import nltk\n",
    "nltk.download('vader_lexicon')\n",
    "from nltk.sentiment import SentimentIntensityAnalyzer\n",
    "nltk.download('punkt')\n",
    "nltk.download('wordnet')\n",
    "from nltk.tokenize import word_tokenize\n",
    "from nltk.stem import PorterStemmer, WordNetLemmatizer\n",
    "import matplotlib.pyplot as plt\n",
    "# from wordcloud import WordCloud\n",
    "import seaborn as sns\n",
    "from textblob import TextBlob"
   ]
  },
  {
   "cell_type": "markdown",
   "metadata": {},
   "source": [
    "# Importing and Reading the dataset"
   ]
  },
  {
   "cell_type": "code",
   "execution_count": 2,
   "metadata": {},
   "outputs": [
    {
     "data": {
      "text/html": [
       "<div>\n",
       "<style scoped>\n",
       "    .dataframe tbody tr th:only-of-type {\n",
       "        vertical-align: middle;\n",
       "    }\n",
       "\n",
       "    .dataframe tbody tr th {\n",
       "        vertical-align: top;\n",
       "    }\n",
       "\n",
       "    .dataframe thead th {\n",
       "        text-align: right;\n",
       "    }\n",
       "</style>\n",
       "<table border=\"1\" class=\"dataframe\">\n",
       "  <thead>\n",
       "    <tr style=\"text-align: right;\">\n",
       "      <th></th>\n",
       "      <th>star_rating</th>\n",
       "      <th>review_body</th>\n",
       "    </tr>\n",
       "  </thead>\n",
       "  <tbody>\n",
       "    <tr>\n",
       "      <th>0</th>\n",
       "      <td>5</td>\n",
       "      <td>As described.</td>\n",
       "    </tr>\n",
       "    <tr>\n",
       "      <th>1</th>\n",
       "      <td>5</td>\n",
       "      <td>It works as advertising.</td>\n",
       "    </tr>\n",
       "    <tr>\n",
       "      <th>2</th>\n",
       "      <td>5</td>\n",
       "      <td>Works pissa</td>\n",
       "    </tr>\n",
       "    <tr>\n",
       "      <th>3</th>\n",
       "      <td>1</td>\n",
       "      <td>Did not work at all.</td>\n",
       "    </tr>\n",
       "    <tr>\n",
       "      <th>4</th>\n",
       "      <td>5</td>\n",
       "      <td>Works well. Bass is somewhat lacking but is pr...</td>\n",
       "    </tr>\n",
       "    <tr>\n",
       "      <th>...</th>\n",
       "      <td>...</td>\n",
       "      <td>...</td>\n",
       "    </tr>\n",
       "    <tr>\n",
       "      <th>99995</th>\n",
       "      <td>1</td>\n",
       "      <td>Came from Compton lol, not what needed, luckil...</td>\n",
       "    </tr>\n",
       "    <tr>\n",
       "      <th>99996</th>\n",
       "      <td>5</td>\n",
       "      <td>Mounted this in brick for our patio TV. Works ...</td>\n",
       "    </tr>\n",
       "    <tr>\n",
       "      <th>99997</th>\n",
       "      <td>5</td>\n",
       "      <td>Quick install. No problems. Saved me hundreds ...</td>\n",
       "    </tr>\n",
       "    <tr>\n",
       "      <th>99998</th>\n",
       "      <td>1</td>\n",
       "      <td>poor reception with a lot of static. replaced ...</td>\n",
       "    </tr>\n",
       "    <tr>\n",
       "      <th>99999</th>\n",
       "      <td>5</td>\n",
       "      <td>Works perfectly</td>\n",
       "    </tr>\n",
       "  </tbody>\n",
       "</table>\n",
       "<p>99992 rows × 2 columns</p>\n",
       "</div>"
      ],
      "text/plain": [
       "       star_rating                                        review_body\n",
       "0                5                                      As described.\n",
       "1                5                           It works as advertising.\n",
       "2                5                                        Works pissa\n",
       "3                1                               Did not work at all.\n",
       "4                5  Works well. Bass is somewhat lacking but is pr...\n",
       "...            ...                                                ...\n",
       "99995            1  Came from Compton lol, not what needed, luckil...\n",
       "99996            5  Mounted this in brick for our patio TV. Works ...\n",
       "99997            5  Quick install. No problems. Saved me hundreds ...\n",
       "99998            1  poor reception with a lot of static. replaced ...\n",
       "99999            5                                    Works perfectly\n",
       "\n",
       "[99992 rows x 2 columns]"
      ]
     },
     "execution_count": 2,
     "metadata": {},
     "output_type": "execute_result"
    }
   ],
   "source": [
    "# Defining the path to the TSV file\n",
    "tsv_file_path = \"amazon_reviews_us_Electronics_v1_00.tsv\"\n",
    "\n",
    "# Load the first 50000 rows of the TSV file into a pandas dataframe\n",
    "data = pd.read_csv(tsv_file_path, delimiter='\\t', on_bad_lines='skip', nrows=100000, \n",
    "                   usecols=['review_body', 'star_rating'])\n",
    "\n",
    "\n",
    "# # Load the first 50000 rows of the TSV file into a pandas dataframe\n",
    "# data = pd.read_csv(tsv_file_path, delimiter = '\\t', on_bad_lines='skip', nrows=50000)\n",
    "data.head()\n",
    "data.dropna()"
   ]
  },
  {
   "cell_type": "markdown",
   "metadata": {},
   "source": [
    "# Performing EDA on dataset"
   ]
  },
  {
   "attachments": {},
   "cell_type": "markdown",
   "metadata": {},
   "source": [
    "### Distribution of star ratings visualisation"
   ]
  },
  {
   "cell_type": "code",
   "execution_count": 3,
   "metadata": {},
   "outputs": [
    {
     "data": {
      "image/png": "[encoded data removed]",
      "text/plain": [
       "<Figure size 640x480 with 1 Axes>"
      ]
     },
     "metadata": {},
     "output_type": "display_data"
    }
   ],
   "source": [
    "# Checking the distribution of star ratings\n",
    "# Count the number of reviews for each star rating\n",
    "star_counts = data['star_rating'].value_counts().sort_index()\n",
    "\n",
    "# Setting up the plot\n",
    "fig, ax = plt.subplots()\n",
    "ax.bar(star_counts.index.astype(str), star_counts.values)\n",
    "\n",
    "# Setting the plot title and axis labels\n",
    "ax.set_title('Distribution of Star Ratings')\n",
    "ax.set_xlabel('Star Rating')\n",
    "ax.set_ylabel('Number of Reviews')\n",
    "plt.show()"
   ]
  },
  {
   "attachments": {},
   "cell_type": "markdown",
   "metadata": {},
   "source": [
    "### Length of reviews visualisation"
   ]
  },
  {
   "cell_type": "code",
   "execution_count": 4,
   "metadata": {},
   "outputs": [
    {
     "data": {
      "image/png": "[encoded data removed]",
      "text/plain": [
       "<Figure size 800x600 with 1 Axes>"
      ]
     },
     "metadata": {},
     "output_type": "display_data"
    }
   ],
   "source": [
    "#Length of reviews\n",
    "review_lengths = []\n",
    "for review in data['review_body']:\n",
    "    if isinstance(review, str):\n",
    "        review_lengths.append(len(review)) #checks if the reviews are string, if floating-point numbers they are skipped\n",
    "plt.figure(figsize=(8,6))\n",
    "sns.histplot(review_lengths, bins=100)\n",
    "plt.title('Length of Reviews')\n",
    "plt.xlabel('Review Length (in characters)')\n",
    "plt.ylabel('Count')\n",
    "plt.show()"
   ]
  },
  {
   "attachments": {},
   "cell_type": "markdown",
   "metadata": {},
   "source": [
    "### Visualizing most used words"
   ]
  },
  {
   "cell_type": "code",
   "execution_count": 8,
   "metadata": {},
   "outputs": [
    {
     "data": {
      "image/png": "[encoded data removed]",
      "text/plain": [
       "<Figure size 640x480 with 1 Axes>"
      ]
     },
     "metadata": {},
     "output_type": "display_data"
    }
   ],
   "source": [
    "from collections import Counter\n",
    "# create a Counter object from the preprocessed text\n",
    "word_counts = Counter(preprocess_text(review) for review in data['review_body'])\n",
    "\n",
    "# get the top 20 most common words and their counts\n",
    "top_words = word_counts.most_common(20)\n",
    "words = [word[0] for word in top_words]\n",
    "counts = [word[1] for word in top_words]\n",
    "\n",
    "# plot the bar chart\n",
    "plt.bar(words, counts)\n",
    "plt.title(\"20 Most Frequent/used Words\")\n",
    "plt.xlabel(\"Words\")\n",
    "plt.ylabel(\"Counts\")\n",
    "plt.xticks(rotation=90)\n",
    "plt.show()"
   ]
  },
  {
   "cell_type": "markdown",
   "metadata": {},
   "source": [
    "# Preprocessing the dataset"
   ]
  },
  {
   "cell_type": "code",
   "execution_count": 6,
   "metadata": {
    "executionInfo": {
     "elapsed": 15629,
     "status": "ok",
     "timestamp": 1678571182931,
     "user": {
      "displayName": "Bimsara Rathnayake",
      "userId": "16353224368554842161"
     },
     "user_tz": -330
    },
    "id": "H_R3gPaGvsq-"
   },
   "outputs": [],
   "source": [
    "#separating text and labels\n",
    "text = data['review_body']\n",
    "labels = data['star_rating']\n",
    "\n",
    "\n",
    "def preprocess_text(text):  \n",
    "    if isinstance(text, str):  # check for text is of string class\n",
    "        tokens = word_tokenize(text.lower())  # tokenizing the text\n",
    "        stemmer = PorterStemmer()  # stemming(reducing words to root form)\n",
    "        lemmatizer = WordNetLemmatizer()  # lemmatizing(converting words to base form)\n",
    "        # stemming each token in the list of tokens\n",
    "        stemmed_tokens = [stemmer.stem(token) for token in tokens]\n",
    "        # Lemmatizing each stemmed token\n",
    "        lemmatized_tokens = [lemmatizer.lemmatize(\n",
    "            token) for token in stemmed_tokens]  \n",
    "        # joining list of lemmatized tokens int a single string\n",
    "        return \" \".join(lemmatized_tokens)\n",
    "    else:\n",
    "        return \"\"  # return empty string if text is not string\n",
    "\n",
    "\n",
    "# #Preprocessing text data\n",
    "# vectorizer = TfidfVectorizer(stop_words='english', ngram_range=(1, 3))\n",
    "# X = vectorizer.fit_transform(text.values.astype('U'))"
   ]
  },
  {
   "cell_type": "markdown",
   "metadata": {},
   "source": [
    "# Mapping labels and splitting datasets into testing and training"
   ]
  },
  {
   "cell_type": "code",
   "execution_count": 9,
   "metadata": {},
   "outputs": [],
   "source": [
    "#Mapping star_rating labels as sentiment labels\n",
    "y = labels.apply(lambda x: 'positive' if x >= 4 else ('negative' if x <= 2 else 'neutral')) "
   ]
  },
  {
   "cell_type": "code",
   "execution_count": 10,
   "metadata": {},
   "outputs": [],
   "source": [
    "X = text.apply(preprocess_text)"
   ]
  },
  {
   "cell_type": "code",
   "execution_count": 11,
   "metadata": {},
   "outputs": [],
   "source": [
    "#Splitting datasets into training, validation, and testing datasets\n",
    "X_train_val, X_test, y_train_val, y_test = train_test_split(X, y, test_size=0.20, random_state=42)\n",
    "X_train, X_val, y_train, y_val = train_test_split(X_train_val, y_train_val, test_size=0.25, random_state=42)"
   ]
  },
  {
   "cell_type": "code",
   "execution_count": 12,
   "metadata": {},
   "outputs": [],
   "source": [
    "#vectorizing the preprocessed text data\n",
    "vectorizer = TfidfVectorizer(stop_words='english', ngram_range=(1, 3))\n",
    "X_train_val = vectorizer.fit_transform(X_train_val)\n",
    "X_train = vectorizer.transform(X_train)\n",
    "X_val = vectorizer.transform(X_val)\n",
    "X_test = vectorizer.transform(X_test)"
   ]
  },
  {
   "cell_type": "markdown",
   "metadata": {},
   "source": []
  },
  {
   "cell_type": "markdown",
   "metadata": {},
   "source": [
    "# Training the model with best parameters"
   ]
  },
  {
   "cell_type": "code",
   "execution_count": null,
   "metadata": {
    "id": "E77FIdZUhFGh"
   },
   "outputs": [],
   "source": [
    "# hyper_param_grid = {\n",
    "#     'C': [0.1, 1, 10],\n",
    "#     'kernel': ['linear', 'rbf'],\n",
    "#     'gamma': ['scale', 'auto']\n",
    "# }\n",
    "# grid_search = GridSearchCV(SVC(), hyper_param_grid, cv=5)\n",
    "# grid_search\n"
   ]
  },
  {
   "cell_type": "code",
   "execution_count": null,
   "metadata": {},
   "outputs": [],
   "source": [
    "# grid_saved = grid_search.fit(X_train_val, y_train_val)\n"
   ]
  },
  {
   "cell_type": "code",
   "execution_count": null,
   "metadata": {},
   "outputs": [],
   "source": [
    "# print(\"done model training\")"
   ]
  },
  {
   "cell_type": "code",
   "execution_count": null,
   "metadata": {
    "id": "zLf8u9fxF2ly"
   },
   "outputs": [],
   "source": [
    "# #Extracting the best hyperparameters and training the SVM model with those hyperparameters\n",
    "# best_params = grid_search.best_params_\n",
    "# svm_model = SVC(**best_params)  \n",
    "# svm_model.fit(X_train, y_train)"
   ]
  },
  {
   "cell_type": "markdown",
   "metadata": {},
   "source": [
    "# Training the Model"
   ]
  },
  {
   "cell_type": "code",
   "execution_count": 13,
   "metadata": {
    "id": "Riw6jcm_n4BQ"
   },
   "outputs": [
    {
     "data": {
      "text/html": [
       "<style>#sk-container-id-1 {color: black;background-color: white;}#sk-container-id-1 pre{padding: 0;}#sk-container-id-1 div.sk-toggleable {background-color: white;}#sk-container-id-1 label.sk-toggleable__label {cursor: pointer;display: block;width: 100%;margin-bottom: 0;padding: 0.3em;box-sizing: border-box;text-align: center;}#sk-container-id-1 label.sk-toggleable__label-arrow:before {content: \"▸\";float: left;margin-right: 0.25em;color: #696969;}#sk-container-id-1 label.sk-toggleable__label-arrow:hover:before {color: black;}#sk-container-id-1 div.sk-estimator:hover label.sk-toggleable__label-arrow:before {color: black;}#sk-container-id-1 div.sk-toggleable__content {max-height: 0;max-width: 0;overflow: hidden;text-align: left;background-color: #f0f8ff;}#sk-container-id-1 div.sk-toggleable__content pre {margin: 0.2em;color: black;border-radius: 0.25em;background-color: #f0f8ff;}#sk-container-id-1 input.sk-toggleable__control:checked~div.sk-toggleable__content {max-height: 200px;max-width: 100%;overflow: auto;}#sk-container-id-1 input.sk-toggleable__control:checked~label.sk-toggleable__label-arrow:before {content: \"▾\";}#sk-container-id-1 div.sk-estimator input.sk-toggleable__control:checked~label.sk-toggleable__label {background-color: #d4ebff;}#sk-container-id-1 div.sk-label input.sk-toggleable__control:checked~label.sk-toggleable__label {background-color: #d4ebff;}#sk-container-id-1 input.sk-hidden--visually {border: 0;clip: rect(1px 1px 1px 1px);clip: rect(1px, 1px, 1px, 1px);height: 1px;margin: -1px;overflow: hidden;padding: 0;position: absolute;width: 1px;}#sk-container-id-1 div.sk-estimator {font-family: monospace;background-color: #f0f8ff;border: 1px dotted black;border-radius: 0.25em;box-sizing: border-box;margin-bottom: 0.5em;}#sk-container-id-1 div.sk-estimator:hover {background-color: #d4ebff;}#sk-container-id-1 div.sk-parallel-item::after {content: \"\";width: 100%;border-bottom: 1px solid gray;flex-grow: 1;}#sk-container-id-1 div.sk-label:hover label.sk-toggleable__label {background-color: #d4ebff;}#sk-container-id-1 div.sk-serial::before {content: \"\";position: absolute;border-left: 1px solid gray;box-sizing: border-box;top: 0;bottom: 0;left: 50%;z-index: 0;}#sk-container-id-1 div.sk-serial {display: flex;flex-direction: column;align-items: center;background-color: white;padding-right: 0.2em;padding-left: 0.2em;position: relative;}#sk-container-id-1 div.sk-item {position: relative;z-index: 1;}#sk-container-id-1 div.sk-parallel {display: flex;align-items: stretch;justify-content: center;background-color: white;position: relative;}#sk-container-id-1 div.sk-item::before, #sk-container-id-1 div.sk-parallel-item::before {content: \"\";position: absolute;border-left: 1px solid gray;box-sizing: border-box;top: 0;bottom: 0;left: 50%;z-index: -1;}#sk-container-id-1 div.sk-parallel-item {display: flex;flex-direction: column;z-index: 1;position: relative;background-color: white;}#sk-container-id-1 div.sk-parallel-item:first-child::after {align-self: flex-end;width: 50%;}#sk-container-id-1 div.sk-parallel-item:last-child::after {align-self: flex-start;width: 50%;}#sk-container-id-1 div.sk-parallel-item:only-child::after {width: 0;}#sk-container-id-1 div.sk-dashed-wrapped {border: 1px dashed gray;margin: 0 0.4em 0.5em 0.4em;box-sizing: border-box;padding-bottom: 0.4em;background-color: white;}#sk-container-id-1 div.sk-label label {font-family: monospace;font-weight: bold;display: inline-block;line-height: 1.2em;}#sk-container-id-1 div.sk-label-container {text-align: center;}#sk-container-id-1 div.sk-container {/* jupyter's `normalize.less` sets `[hidden] { display: none; }` but bootstrap.min.css set `[hidden] { display: none !important; }` so we also need the `!important` here to be able to override the default hidden behavior on the sphinx rendered scikit-learn.org. See: https://github.com/scikit-learn/scikit-learn/issues/21755 */display: inline-block !important;position: relative;}#sk-container-id-1 div.sk-text-repr-fallback {display: none;}</style><div id=\"sk-container-id-1\" class=\"sk-top-container\"><div class=\"sk-text-repr-fallback\"><pre>SVC(C=1, kernel=&#x27;linear&#x27;)</pre><b>In a Jupyter environment, please rerun this cell to show the HTML representation or trust the notebook. <br />On GitHub, the HTML representation is unable to render, please try loading this page with nbviewer.org.</b></div><div class=\"sk-container\" hidden><div class=\"sk-item\"><div class=\"sk-estimator sk-toggleable\"><input class=\"sk-toggleable__control sk-hidden--visually\" id=\"sk-estimator-id-1\" type=\"checkbox\" checked><label for=\"sk-estimator-id-1\" class=\"sk-toggleable__label sk-toggleable__label-arrow\">SVC</label><div class=\"sk-toggleable__content\"><pre>SVC(C=1, kernel=&#x27;linear&#x27;)</pre></div></div></div></div></div>"
      ],
      "text/plain": [
       "SVC(C=1, kernel='linear')"
      ]
     },
     "execution_count": 13,
     "metadata": {},
     "output_type": "execute_result"
    }
   ],
   "source": [
    "#Training the SVM model\n",
    "svm_model = SVC(kernel='linear', C=1)  \n",
    "svm_model.fit(X_train, y_train)"
   ]
  },
  {
   "cell_type": "markdown",
   "metadata": {},
   "source": [
    "# Evalutating"
   ]
  },
  {
   "cell_type": "code",
   "execution_count": 14,
   "metadata": {
    "colab": {
     "base_uri": "https://localhost:8080/"
    },
    "executionInfo": {
     "elapsed": 30757,
     "status": "ok",
     "timestamp": 1677932376319,
     "user": {
      "displayName": "Bimsara Rathnayake",
      "userId": "16353224368554842161"
     },
     "user_tz": -330
    },
    "id": "uhOZoWqgYKaS",
    "outputId": "727e04f7-112e-48d8-89bd-e2ab79e19b9c"
   },
   "outputs": [
    {
     "name": "stdout",
     "output_type": "stream",
     "text": [
      "Validation Set Metrics:\n",
      "Accuracy: 0.862\n",
      "Precision: 0.837\n",
      "Recall: 0.862\n",
      "F1 Score: 0.828\n",
      "\n",
      "Test Set Metrics:\n",
      "Accuracy: 0.872\n",
      "Precision: 0.846\n",
      "Recall: 0.872\n",
      "F1 Score: 0.845\n"
     ]
    }
   ],
   "source": [
    "# evaluating the model on the validation set\n",
    "y_pred_val = svm_model.predict(X_val)\n",
    "accuracy_val = accuracy_score(y_val, y_pred_val)\n",
    "precision_val = precision_score(y_val, y_pred_val, average='weighted')\n",
    "recall_val = recall_score(y_val, y_pred_val, average='weighted')\n",
    "f1_val = f1_score(y_val, y_pred_val, average='weighted')\n",
    "\n",
    "print('Validation Set Metrics:')\n",
    "print(f'Accuracy: {accuracy_val:.3f}')\n",
    "print(f'Precision: {precision_val:.3f}')\n",
    "print(f'Recall: {recall_val:.3f}')\n",
    "print(f'F1 Score: {f1_val:.3f}')\n",
    "\n",
    "# evaluating the model on the test set\n",
    "y_pred_test = svm_model.predict(X_test)\n",
    "accuracy_test = accuracy_score(y_test, y_pred_test)\n",
    "precision_test = precision_score(y_test, y_pred_test, average='weighted')\n",
    "recall_test = recall_score(y_test, y_pred_test, average='weighted')\n",
    "f1_test = f1_score(y_test, y_pred_test, average='weighted')\n",
    "\n",
    "print('\\nTest Set Metrics:')\n",
    "print(f'Accuracy: {accuracy_test:.3f}')\n",
    "print(f'Precision: {precision_test:.3f}')\n",
    "print(f'Recall: {recall_test:.3f}')\n",
    "print(f'F1 Score: {f1_test:.3f}')"
   ]
  },
  {
   "cell_type": "markdown",
   "metadata": {},
   "source": [
    "# Saving the Model"
   ]
  },
  {
   "cell_type": "code",
   "execution_count": 15,
   "metadata": {
    "colab": {
     "base_uri": "https://localhost:8080/"
    },
    "executionInfo": {
     "elapsed": 520,
     "status": "ok",
     "timestamp": 1677932380489,
     "user": {
      "displayName": "Bimsara Rathnayake",
      "userId": "16353224368554842161"
     },
     "user_tz": -330
    },
    "id": "_1G6WHx6VIuf",
    "outputId": "cdb0c7fb-c860-4a88-cc5b-7feb689ce828"
   },
   "outputs": [
    {
     "data": {
      "text/plain": [
       "['vectorizer_alt_fin.sav']"
      ]
     },
     "execution_count": 15,
     "metadata": {},
     "output_type": "execute_result"
    }
   ],
   "source": [
    "import joblib\n",
    "\n",
    "# Saving the model and vectorizer\n",
    "# filename = '/content/drive/MyDrive/svm_model.sav'\n",
    "filename = 'svm_modelFin.sav'\n",
    "joblib.dump(svm_model, filename)\n",
    "joblib.dump(svm_model, 'svm_model_alt_fin.pk1')\n",
    "# joblib.dump(vectorizer, '/content/drive/MyDrive/vectorizer.pk1')\n",
    "joblib.dump(vectorizer, 'vectorizerFin.pk1')\n",
    "joblib.dump(vectorizer, 'vectorizer_alt_fin.sav')"
   ]
  },
  {
   "cell_type": "markdown",
   "metadata": {},
   "source": [
    "# Loading the model"
   ]
  },
  {
   "cell_type": "code",
   "execution_count": 3,
   "metadata": {
    "colab": {
     "base_uri": "https://localhost:8080/",
     "height": 373
    },
    "executionInfo": {
     "elapsed": 1641,
     "status": "error",
     "timestamp": 1678210126864,
     "user": {
      "displayName": "Bimsara Rathnayake",
      "userId": "16353224368554842161"
     },
     "user_tz": -330
    },
    "id": "Udc1udnsVNw6",
    "outputId": "e50208e1-4647-4237-99cd-1174e685a45b"
   },
   "outputs": [
    {
     "name": "stdout",
     "output_type": "stream",
     "text": [
      "Predicted Label: ['negative']\n",
      "Compound score: -0.6249\n",
      "Overall Rating score: 19\n"
     ]
    },
    {
     "name": "stderr",
     "output_type": "stream",
     "text": [
      "[nltk_data] Downloading package vader_lexicon to\n",
      "[nltk_data]     C:\\Users\\BIMSARA\\AppData\\Roaming\\nltk_data...\n",
      "[nltk_data]   Package vader_lexicon is already up-to-date!\n"
     ]
    }
   ],
   "source": [
    "import joblib\n",
    "import nltk\n",
    "nltk.download('vader_lexicon')\n",
    "from nltk.sentiment import SentimentIntensityAnalyzer\n",
    "\n",
    "#Loading saved model and vectorizer\n",
    "loaded_svm_model = joblib.load('svm_model.sav')\n",
    "loaded_vectorizer = joblib.load('vectorizer.pk1')\n",
    "\n",
    "#Using the loaded model and vectorizer to make predictions\n",
    "#creating new text to tst the sentiment label\n",
    "new_text = ['the product is the worst']\n",
    "#vectorizing the new text\n",
    "new_text_transformed = loaded_vectorizer.transform(new_text).toarray()\n",
    "#predicting using loaded model\n",
    "prediction = loaded_svm_model.predict(new_text_transformed)\n",
    "\n",
    "#getting the polarity score for the text using sentiment analyzer\n",
    "analyzer = SentimentIntensityAnalyzer()\n",
    "new_scores = analyzer.polarity_scores(new_text[0])\n",
    "compound_score = new_scores['compound']\n",
    "percentage_score =(round((compound_score + 1) * 50))\n",
    "\n",
    "print(f\"Predicted Label: {prediction}\")\n",
    "print(f\"Compound score: {compound_score}\")\n",
    "#percentage score(trustworthy score) between 0 -100\n",
    "print(f\"Overall Rating score: {percentage_score}\")"
   ]
  },
  {
   "attachments": {},
   "cell_type": "markdown",
   "metadata": {},
   "source": [
    "### References"
   ]
  },
  {
   "attachments": {},
   "cell_type": "markdown",
   "metadata": {},
   "source": [
    "1. https://neptune.ai/blog/vectorization-techniques-in-nlp-guide\n",
    "2. https://towardsdatascience.com/building-bar-charts-using-matplotlib-c7cf6db3e728\n",
    "3. https://www.youtube.com/watch?v=QpzMWQvxXWk&t=2166s"
   ]
  }
 ],
 "metadata": {
  "accelerator": "GPU",
  "colab": {
   "provenance": []
  },
  "gpuClass": "standard",
  "kernelspec": {
   "display_name": "Python 3 (ipykernel)",
   "language": "python",
   "name": "python3"
  },
  "language_info": {
   "codemirror_mode": {
    "name": "ipython",
    "version": 3
   },
   "file_extension": ".py",
   "mimetype": "text/x-python",
   "name": "python",
   "nbconvert_exporter": "python",
   "pygments_lexer": "ipython3",
   "version": "3.11.2"
  }
 },
 "nbformat": 4,
 "nbformat_minor": 1
}
