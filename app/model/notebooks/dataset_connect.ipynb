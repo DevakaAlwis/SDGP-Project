{
 "cells": [
  {
   "attachments": {},
   "cell_type": "markdown",
   "metadata": {},
   "source": [
    "## Importing Pandas library"
   ]
  },
  {
   "cell_type": "code",
   "execution_count": 3,
   "metadata": {
    "id": "jCDijuI6aV8G"
   },
   "outputs": [],
   "source": [
    "import pandas as pd"
   ]
  },
  {
   "attachments": {},
   "cell_type": "markdown",
   "metadata": {},
   "source": [
    "## Reading all datasets"
   ]
  },
  {
   "cell_type": "code",
   "execution_count": 5,
   "metadata": {
    "id": "TYmkpGD5af6e"
   },
   "outputs": [],
   "source": [
    "#reading all datasets\n",
    "df = pd.read_csv('product_reviews_for_review_analysis_test_1_final.csv')\n",
    "df2 = pd.read_csv('product_reviews_for_review_analysis_test_2_final.csv')\n",
    "df3 = pd.read_csv('product_reviews_for_review_analysis_test_3_final.csv')\n",
    "df4 = pd.read_csv('product_reviews_for_review_analysis_test_4_final.csv')\n",
    "df5 = pd.read_csv('product_reviews_for_review_analysis_test_5_final.csv')\n",
    "df6 = pd.read_csv('product_reviews_for_review_analysis_test_6_final.csv')\n",
    "df7 = pd.read_csv('product_reviews_for_review_analysis_test_7_final.csv')\n",
    "df8 = pd.read_csv('product_reviews_for_review_analysis_test_8_final.csv')\n",
    "df9 = pd.read_csv('product_reviews_for_review_analysis_test_9_final.csv')\n",
    "df10 = pd.read_csv('product_reviews_for_review_analysis_test_10_final.csv')\n",
    "df11 = pd.read_csv('product_reviews_for_review_analysis_test_11_final.csv')\n",
    "df12 = pd.read_csv('product_reviews_for_review_analysis_test_13_final.csv')\n",
    "df13 = pd.read_csv('product_reviews_for_review_analysis_test_14_final.csv')\n",
    "df14 = pd.read_csv('product_reviews_for_review_analysis_test_15_final.csv')\n",
    "df15 = pd.read_csv('product_reviews_for_review_analysis_test_16_final.csv')\n",
    "df16 = pd.read_csv('product_reviews_for_review_analysis_test_17_final.csv')\n",
    "df17 = pd.read_csv('product_reviews_for_review_analysis_test_18_final.csv')\n",
    "df18 = pd.read_csv('product_reviews_for_review_analysis_test_19_final.csv')\n",
    "df19 = pd.read_csv('product_reviews_for_review_analysis_test_20_final.csv')\n",
    "df20 = pd.read_csv('product_reviews_for_review_analysis_test_21_final.csv')"
   ]
  },
  {
   "attachments": {},
   "cell_type": "markdown",
   "metadata": {},
   "source": [
    "## Concatonate all datasets by row"
   ]
  },
  {
   "cell_type": "code",
   "execution_count": 6,
   "metadata": {
    "id": "ZeMBM06bcGy3"
   },
   "outputs": [],
   "source": [
    "#concatonate all datasets by row\n",
    "combined_df = pd.concat([df, df2, df3, df4, df5, df6, df7, df8, df9, df10, df11, df12, df13, df14, df15, df16, df17, df18, df19, df20], axis=0)"
   ]
  },
  {
   "attachments": {},
   "cell_type": "markdown",
   "metadata": {},
   "source": [
    "## Saving the combined dataframe to a CSV file"
   ]
  },
  {
   "cell_type": "code",
   "execution_count": null,
   "metadata": {
    "id": "Gtb3nobIdgXC"
   },
   "outputs": [],
   "source": [
    "# Saving the combined dataframe to a CSV file\n",
    "combined_df.to_csv('product_reviews_for_review_analysis_combined.csv', index=False)"
   ]
  }
 ],
 "metadata": {
  "colab": {
   "authorship_tag": "ABX9TyOZnuHIDC8+l/IzVTr6BWPZ",
   "provenance": []
  },
  "kernelspec": {
   "display_name": "Python 3 (ipykernel)",
   "language": "python",
   "name": "python3"
  },
  "language_info": {
   "codemirror_mode": {
    "name": "ipython",
    "version": 3
   },
   "file_extension": ".py",
   "mimetype": "text/x-python",
   "name": "python",
   "nbconvert_exporter": "python",
   "pygments_lexer": "ipython3",
   "version": "3.11.1"
  }
 },
 "nbformat": 4,
 "nbformat_minor": 1
}
